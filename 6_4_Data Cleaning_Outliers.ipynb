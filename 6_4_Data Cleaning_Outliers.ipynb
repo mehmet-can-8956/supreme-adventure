{
 "cells": [
  {
   "cell_type": "code",
   "execution_count": 1,
   "metadata": {},
   "outputs": [],
   "source": [
    "import matplotlib.pyplot as plt\n",
    "import numpy as np\n",
    "import pandas as pd\n",
    "import warnings\n",
    "warnings.filterwarnings(\"ignore\")\n",
    "plt.rcParams['figure.dpi'] = 100\n",
    "plt.rcParams['figure.figsize'] = (8,5.5)"
   ]
  },
  {
   "cell_type": "code",
   "execution_count": 2,
   "metadata": {},
   "outputs": [],
   "source": [
    "us_edu = pd.read_csv(\"datasets_95317_1078789_states_all.csv\")"
   ]
  },
  {
   "cell_type": "code",
   "execution_count": 3,
   "metadata": {},
   "outputs": [],
   "source": [
    "r_e=us_edu[[\"STATE\",\"YEAR\",\"TOTAL_REVENUE\",\"TOTAL_EXPENDITURE\"]]"
   ]
  },
  {
   "cell_type": "code",
   "execution_count": 4,
   "metadata": {},
   "outputs": [],
   "source": [
    "r_e.drop(r_e[r_e[\"STATE\"]==\"NATIONAL\"].index, axis=0, inplace=True)"
   ]
  },
  {
   "cell_type": "code",
   "execution_count": 5,
   "metadata": {},
   "outputs": [],
   "source": [
    "r_e.drop(r_e[r_e[\"STATE\"]==\"DODEA\"].index, axis=0, inplace=True)"
   ]
  },
  {
   "cell_type": "code",
   "execution_count": 6,
   "metadata": {},
   "outputs": [],
   "source": [
    "states=us_edu[\"STATE\"].unique()"
   ]
  },
  {
   "cell_type": "code",
   "execution_count": 7,
   "metadata": {},
   "outputs": [],
   "source": [
    "for state in states:\n",
    "    r_e[r_e[\"STATE\"]==state][\"TOTAL_REVENUE\"].fillna(r_e[r_e[\"STATE\"]==state][\"TOTAL_REVENUE\"].mean())"
   ]
  },
  {
   "cell_type": "code",
   "execution_count": 8,
   "metadata": {},
   "outputs": [],
   "source": [
    "for state in states:\n",
    "    r_e[r_e[\"STATE\"]==state][\"TOTAL_EXPENDITURE\"].fillna(r_e[r_e[\"STATE\"]==state][\"TOTAL_EXPENDITURE\"].mean())"
   ]
  },
  {
   "cell_type": "code",
   "execution_count": 9,
   "metadata": {},
   "outputs": [],
   "source": [
    "# 1st Part\n",
    "# Applying one of the statistical approach Z Score we observe outliers."
   ]
  },
  {
   "cell_type": "code",
   "execution_count": 10,
   "metadata": {},
   "outputs": [
    {
     "name": "stdout",
     "output_type": "stream",
     "text": [
      "Threshold value: 1\n",
      "Number of Outliers: 182\n",
      "------\n",
      "Threshold value: 2\n",
      "Number of Outliers: 76\n",
      "------\n",
      "Threshold value: 3\n",
      "Number of Outliers: 47\n",
      "------\n",
      "Threshold value: 4\n",
      "Number of Outliers: 32\n",
      "------\n"
     ]
    }
   ],
   "source": [
    "from scipy.stats import zscore\n",
    "\n",
    "z_scores = zscore(r_e[\"TOTAL_REVENUE\"].dropna())\n",
    "for threshold in range(1,5):\n",
    "    print(\"Threshold value: {}\".format(threshold))\n",
    "    print(\"Number of Outliers: {}\".format(len((np.where(z_scores > threshold)[0]))))\n",
    "    print('------')"
   ]
  },
  {
   "cell_type": "code",
   "execution_count": 11,
   "metadata": {},
   "outputs": [
    {
     "name": "stdout",
     "output_type": "stream",
     "text": [
      "Threshold value: 1\n",
      "Number of Outliers: 182\n",
      "------\n",
      "Threshold value: 2\n",
      "Number of Outliers: 78\n",
      "------\n",
      "Threshold value: 3\n",
      "Number of Outliers: 47\n",
      "------\n",
      "Threshold value: 4\n",
      "Number of Outliers: 24\n",
      "------\n"
     ]
    }
   ],
   "source": [
    "from scipy.stats import zscore\n",
    "\n",
    "z_scores = zscore(r_e[\"TOTAL_EXPENDITURE\"].dropna())\n",
    "for threshold in range(1,5):\n",
    "    print(\"Threshold value: {}\".format(threshold))\n",
    "    print(\"Number of Outliers: {}\".format(len((np.where(z_scores > threshold)[0]))))\n",
    "    print('------')"
   ]
  },
  {
   "cell_type": "code",
   "execution_count": 12,
   "metadata": {},
   "outputs": [],
   "source": [
    "# 2nd Part\n",
    "# Applying Winsorizing Method we eliminate the outliers\n",
    "# We observe the difference by box plot"
   ]
  },
  {
   "cell_type": "code",
   "execution_count": 13,
   "metadata": {},
   "outputs": [
    {
     "data": {
      "image/png": "[encoded data removed]",
      "text/plain": [
       "<Figure size 800x550 with 1 Axes>"
      ]
     },
     "metadata": {
      "needs_background": "light"
     },
     "output_type": "display_data"
    }
   ],
   "source": [
    "title_font = {'family': 'arial', 'color': 'darkred','weight': 'bold','size': 13 }\n",
    "axis_font  = {'family': 'arial', 'color': 'darkblue','weight': 'bold','size': 10 }\n",
    "plt.boxplot(r_e[\"TOTAL_REVENUE\"].dropna())\n",
    "plt.title(\"Total Revenue\", fontdict=title_font)\n",
    "plt.show()"
   ]
  },
  {
   "cell_type": "code",
   "execution_count": 14,
   "metadata": {},
   "outputs": [
    {
     "data": {
      "text/plain": [
       "masked_array(data=[2678885.  , 1243227.  , 3258079.  , ..., 2664419.  ,\n",
       "                   8944846.84, 1243227.  ],\n",
       "             mask=False,\n",
       "       fill_value=1e+20)"
      ]
     },
     "execution_count": 14,
     "metadata": {},
     "output_type": "execute_result"
    }
   ],
   "source": [
    "from scipy.stats.mstats import winsorize\n",
    "\n",
    "winsorizing= winsorize(np.array(r_e.TOTAL_REVENUE.dropna()), (0.10, 0.10))\n",
    "winsorizing"
   ]
  },
  {
   "cell_type": "code",
   "execution_count": 15,
   "metadata": {},
   "outputs": [
    {
     "data": {
      "image/png": "[encoded data removed]",
      "text/plain": [
       "<Figure size 800x550 with 1 Axes>"
      ]
     },
     "metadata": {
      "needs_background": "light"
     },
     "output_type": "display_data"
    }
   ],
   "source": [
    "plt.boxplot(winsorizing)\n",
    "plt.title(\"Total Revenue After Winsorizing\", fontdict=title_font)\n",
    "plt.show()"
   ]
  },
  {
   "cell_type": "code",
   "execution_count": 16,
   "metadata": {},
   "outputs": [
    {
     "data": {
      "text/plain": [
       "masked_array(data=[2653798.  , 1265367.  , 3401580.  , ..., 2670432.28,\n",
       "                   8995488.76, 1265367.  ],\n",
       "             mask=False,\n",
       "       fill_value=1e+20)"
      ]
     },
     "execution_count": 16,
     "metadata": {},
     "output_type": "execute_result"
    }
   ],
   "source": [
    "from scipy.stats.mstats import winsorize\n",
    "\n",
    "winsorizing= winsorize(np.array(r_e.TOTAL_EXPENDITURE.dropna()), (0.10, 0.10))\n",
    "winsorizing"
   ]
  },
  {
   "cell_type": "code",
   "execution_count": 18,
   "metadata": {},
   "outputs": [],
   "source": [
    "# 3rd Part\n",
    "# we subtract the total expenditure TOTAL_EXPENDITURE from the total income variable\n",
    "# TOTAL_REVENUE. So we will have a variable that can be considered as a budget deficit "
   ]
  },
  {
   "cell_type": "code",
   "execution_count": 19,
   "metadata": {},
   "outputs": [],
   "source": [
    "r_e[\"BUDGET_DEFICIT\"]=r_e[\"TOTAL_REVENUE\"]-r_e[\"TOTAL_EXPENDITURE\"]"
   ]
  },
  {
   "cell_type": "code",
   "execution_count": 20,
   "metadata": {},
   "outputs": [
    {
     "name": "stdout",
     "output_type": "stream",
     "text": [
      "Threshold value: 1\n",
      "Number of Outliers: 76\n",
      "------\n",
      "Threshold value: 2\n",
      "Number of Outliers: 22\n",
      "------\n",
      "Threshold value: 3\n",
      "Number of Outliers: 7\n",
      "------\n",
      "Threshold value: 4\n",
      "Number of Outliers: 3\n",
      "------\n"
     ]
    }
   ],
   "source": [
    "from scipy.stats import zscore\n",
    "\n",
    "z_scores = zscore(r_e[\"BUDGET_DEFICIT\"].dropna())\n",
    "for threshold in range(1,5):\n",
    "    print(\"Threshold value: {}\".format(threshold))\n",
    "    print(\"Number of Outliers: {}\".format(len((np.where(z_scores > threshold)[0]))))\n",
    "    print('------')"
   ]
  },
  {
   "cell_type": "code",
   "execution_count": 32,
   "metadata": {},
   "outputs": [],
   "source": [
    "from scipy.stats.mstats import winsorize\n",
    "\n",
    "winsorizing_bd= winsorize(np.array(r_e.BUDGET_DEFICIT.dropna()), (0.10, 0.10))\n",
    "winsorizing_old_bd=pd.Series(winsorizing_bd)"
   ]
  },
  {
   "cell_type": "code",
   "execution_count": 33,
   "metadata": {},
   "outputs": [],
   "source": [
    "# 4th Part\n",
    "# this time, after clearing the outliers we acquire budget deficit again"
   ]
  },
  {
   "cell_type": "code",
   "execution_count": 34,
   "metadata": {},
   "outputs": [],
   "source": [
    "from scipy.stats.mstats import winsorize\n",
    "\n",
    "winsorizing_r= winsorize(np.array(r_e.TOTAL_REVENUE.dropna()), (0.10, 0.10))\n",
    "winsorizing_e= winsorize(np.array(r_e.TOTAL_EXPENDITURE.dropna()), (0.10, 0.10))"
   ]
  },
  {
   "cell_type": "code",
   "execution_count": 35,
   "metadata": {},
   "outputs": [],
   "source": [
    "winsorizing_new_bd=pd.Series(winsorizing_r-winsorizing_e)"
   ]
  },
  {
   "cell_type": "code",
   "execution_count": 36,
   "metadata": {},
   "outputs": [
    {
     "data": {
      "text/plain": [
       "pandas.core.series.Series"
      ]
     },
     "execution_count": 36,
     "metadata": {},
     "output_type": "execute_result"
    }
   ],
   "source": [
    "type(winsorizing_new_bd)"
   ]
  },
  {
   "cell_type": "code",
   "execution_count": 38,
   "metadata": {},
   "outputs": [
    {
     "data": {
      "image/png": "[encoded data removed]",
      "text/plain": [
       "<Figure size 1500x500 with 2 Axes>"
      ]
     },
     "metadata": {
      "needs_background": "light"
     },
     "output_type": "display_data"
    }
   ],
   "source": [
    "plt.figure(figsize = (15,5))\n",
    "\n",
    "plt.subplot(1,2,1)\n",
    "plt.boxplot(winsorizing_old_bd.dropna())\n",
    "plt.title(\"First:Subtracting Second:Winsorizing\", fontdict=title_font)\n",
    "\n",
    "plt.subplot(1,2,2)\n",
    "plt.boxplot(winsorizing_new_bd.dropna())\n",
    "plt.title(\"First:Winsorizing Second:Subtracting \", fontdict=title_font)\n",
    "plt.show()"
   ]
  },
  {
   "cell_type": "code",
   "execution_count": null,
   "metadata": {},
   "outputs": [],
   "source": [
    "# 5th Part\n",
    "# we have two different budget variables, one of these after clearing the outliers we acquire budget deficit\n",
    "# the other after subtracting we clear outliers and acquire budget deficit again\n",
    "# the difference is even though we clean outliers when we subtract the values we obtain new values and they have \n",
    "# again outliers regardless of cleaning"
   ]
  },
  {
   "cell_type": "code",
   "execution_count": null,
   "metadata": {},
   "outputs": [],
   "source": [
    "# 6th Part\n",
    "# when comparing methods it is obvious that first subtracting at last clearing data gives us\n",
    "# better results"
   ]
  }
 ],
 "metadata": {
  "kernelspec": {
   "display_name": "Python 3",
   "language": "python",
   "name": "python3"
  },
  "language_info": {
   "codemirror_mode": {
    "name": "ipython",
    "version": 3
   },
   "file_extension": ".py",
   "mimetype": "text/x-python",
   "name": "python",
   "nbconvert_exporter": "python",
   "pygments_lexer": "ipython3",
   "version": "3.7.6"
  }
 },
 "nbformat": 4,
 "nbformat_minor": 4
}
