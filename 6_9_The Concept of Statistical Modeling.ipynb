{
 "cells": [
  {
   "cell_type": "markdown",
   "metadata": {},
   "source": [
    "1. We can make a model which calculates tosses result of coin throwing,\n",
    "by using numpy's random function for 1000 or more throw and save it in an array.\n",
    "After that we can use pgmpy library and we can import bayesian model and bayesian\n",
    "estimate function,  and after that using this function we can build a new model\n",
    "for calculating the results. The more we add feature our model produce better results\n",
    "however it will be mass after a point. So we have to add new features untill our \n",
    "model before becoming bulky.\n"
   ]
  },
  {
   "cell_type": "markdown",
   "metadata": {},
   "source": [
    "2. Netflix has a feature that includes 76,897 different micro-genres for categorizing\n",
    "films. Besides that they have a stockpile of data about Hollywood entertainment which\n",
    "contains every movie and TV show. They have also customers past watched film information,\n",
    "and take customers comments via 1-5 star evaluation system. In addition to these they have\n",
    "feature category columns such as \"type of movie (like horror)\", \"appealig population\n",
    "(like 8-10 years boy)\", \"a mass of adjectives (like feel-happy)\", \"more proper alternative\n",
    "adjectives (like-happy ending)\". After all this data they use 2-4 adjectives not more\n",
    "to describe each movie. Beyond these they have top 15 list of directors or movie star.\n",
    "What features can we add to this referral system :\n",
    "    * There must be a feature for every movie \"popularity information\".\n",
    "    * For every film it must be recorded if it is watched uninterrupted\n",
    "    * For every film it must be recorded if it is watched more than 1 by same customer\n",
    "    which means customer liked film very much.\n",
    "    * Also every director, actor and actrice must have a \"popularity information\"\n",
    "    * Every customers habits must be recorded like daily watch duration.\n"
   ]
  }
 ],
 "metadata": {
  "kernelspec": {
   "display_name": "Python 3",
   "language": "python",
   "name": "python3"
  },
  "language_info": {
   "codemirror_mode": {
    "name": "ipython",
    "version": 3
   },
   "file_extension": ".py",
   "mimetype": "text/x-python",
   "name": "python",
   "nbconvert_exporter": "python",
   "pygments_lexer": "ipython3",
   "version": "3.7.6"
  }
 },
 "nbformat": 4,
 "nbformat_minor": 4
}
