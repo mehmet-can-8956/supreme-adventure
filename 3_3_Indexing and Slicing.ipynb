{
 "cells": [
  {
   "cell_type": "code",
   "execution_count": 62,
   "metadata": {},
   "outputs": [],
   "source": [
    "import numpy as np"
   ]
  },
  {
   "cell_type": "code",
   "execution_count": 63,
   "metadata": {},
   "outputs": [],
   "source": [
    "import csv\n",
    "\n",
    "with open('datasets_420118_812507_Earthquakes.csv', newline='') as csvfile:\n",
    "    data = list(csv.reader(csvfile))\n"
   ]
  },
  {
   "cell_type": "code",
   "execution_count": 64,
   "metadata": {},
   "outputs": [],
   "source": [
    "np.save(\"earthquakes.npy\", data)"
   ]
  },
  {
   "cell_type": "code",
   "execution_count": 65,
   "metadata": {},
   "outputs": [
    {
     "name": "stdout",
     "output_type": "stream",
     "text": [
      "[['No' 'Date(UTC)' 'Ref1' ... 'Magnitude' 'Source No 3'\n",
      "  'Source Description 3']\n",
      " ['0' '2018-10-14 15:08:32' '0' ... '4.0' '7' 'AFAD-DDA']\n",
      " ['0' '2018-10-10 09:08:24' '0' ... '4.1' '7' 'AFAD-DDA']\n",
      " ...\n",
      " ['4' '1900-01-27 02:30:00' '2' ... '4.8' '2' 'Ambraseys-Finkel 1987']\n",
      " ['3' '1900-01-24 03:00:00' '2' ... '5.2' '2' 'Ambraseys-Finkel 1987']\n",
      " ['2' '1900-01-18 15:30:00' '2' ... '4.4' '2' 'Ambraseys-Finkel 1987']]\n"
     ]
    }
   ],
   "source": [
    "earthquakes = np.load(\"earthquakes.npy\")\n",
    "print(earthquakes)"
   ]
  },
  {
   "cell_type": "code",
   "execution_count": 66,
   "metadata": {},
   "outputs": [
    {
     "data": {
      "text/plain": [
       "(6575, 14)"
      ]
     },
     "execution_count": 66,
     "metadata": {},
     "output_type": "execute_result"
    }
   ],
   "source": [
    "earthquakes.shape"
   ]
  },
  {
   "cell_type": "code",
   "execution_count": 67,
   "metadata": {},
   "outputs": [
    {
     "data": {
      "text/plain": [
       "array([['Ref1', 'Latitude', 'Longitude', 'Depth', 'Magnitude'],\n",
       "       ['0', '36.8578', '44.4161', '16.97', '4.0'],\n",
       "       ['0', '37.4341', '35.852', '7.02', '4.1'],\n",
       "       ['0', '37.6878', '37.4016', '10.27', '4.4'],\n",
       "       ['0', '37.2003', '30.4376', '78.07', '4.0'],\n",
       "       ['0', '35.6846', '26.7266', '42.77', '4.5'],\n",
       "       ['0', '36.4171', '28.6991', '14.86', '4.1'],\n",
       "       ['0', '36.0535', '31.2135', '36.68', '5.2'],\n",
       "       ['0', '37.1958', '30.6241', '50.33', '4.8'],\n",
       "       ['0', '36.9653', '27.7633', '6.93', '4.3'],\n",
       "       ['0', '38.893', '26.4483', '11.62', '4.2'],\n",
       "       ['0', '37.3773', '36.3855', '10.53', '4.8'],\n",
       "       ['0', '35.8861', '26.0695', '28.49', '4.9'],\n",
       "       ['0', '37.4635', '36.3113', '15.29', '4.3'],\n",
       "       ['0', '37.0201', '36.0845', '10.0', '4.1'],\n",
       "       ['0', '37.6546', '26.6698', '4.5', '4.5'],\n",
       "       ['0', '37.5318', '29.848000000000003', '17.58', '4.6'],\n",
       "       ['0', '39.0388', '44.1533', '7.52', '4.5'],\n",
       "       ['0', '38.357', '44.8686', '10.05', '4.1'],\n",
       "       ['0', '35.7018', '28.1495', '6.25', '4.1']], dtype='<U25')"
      ]
     },
     "execution_count": 67,
     "metadata": {},
     "output_type": "execute_result"
    }
   ],
   "source": [
    "#In the assignment it is told to choose column numbers 3, 5, 6, 7, 12.\n",
    "#But to be able to acquire \"4.5 or higher\" values i changed it 2, 4, 5, 6, 11.\n",
    "sample=earthquakes[:20,[2, 4, 5, 6, 11]]\n",
    "sample"
   ]
  },
  {
   "cell_type": "code",
   "execution_count": 70,
   "metadata": {},
   "outputs": [
    {
     "name": "stdout",
     "output_type": "stream",
     "text": [
      "Row  5  is equal to 4.5 or higher\n",
      "Row  7  is equal to 4.5 or higher\n",
      "Row  8  is equal to 4.5 or higher\n",
      "Row  11  is equal to 4.5 or higher\n",
      "Row  12  is equal to 4.5 or higher\n",
      "Row  15  is equal to 4.5 or higher\n",
      "Row  16  is equal to 4.5 or higher\n",
      "Row  17  is equal to 4.5 or higher\n"
     ]
    }
   ],
   "source": [
    "for i in range(1,len(sample)):\n",
    "    if float(sample[i,(len(sample[0,:])-1)]) >= 4.5:\n",
    "        print(\"Row \",i,\" is equal to 4.5 or higher\")"
   ]
  },
  {
   "cell_type": "code",
   "execution_count": null,
   "metadata": {},
   "outputs": [],
   "source": [
    "sample[0,:]=1"
   ]
  },
  {
   "cell_type": "code",
   "execution_count": null,
   "metadata": {},
   "outputs": [],
   "source": [
    "sample"
   ]
  },
  {
   "cell_type": "code",
   "execution_count": 71,
   "metadata": {},
   "outputs": [],
   "source": [
    "np.save(\"earthquakes_sample.npy\", sample)"
   ]
  }
 ],
 "metadata": {
  "kernelspec": {
   "display_name": "Python 3",
   "language": "python",
   "name": "python3"
  },
  "language_info": {
   "codemirror_mode": {
    "name": "ipython",
    "version": 3
   },
   "file_extension": ".py",
   "mimetype": "text/x-python",
   "name": "python",
   "nbconvert_exporter": "python",
   "pygments_lexer": "ipython3",
   "version": "3.7.6"
  }
 },
 "nbformat": 4,
 "nbformat_minor": 4
}
