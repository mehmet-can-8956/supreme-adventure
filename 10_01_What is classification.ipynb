{
 "cells": [
  {
   "cell_type": "code",
   "execution_count": null,
   "metadata": {},
   "outputs": [],
   "source": [
    "# Determine whether the following examples are classification problems or regression problems:\n",
    "\n",
    "# Regression     :Given the size of the house, estimating the price of it,\n",
    "# Classification :From the clothes of those who come to see the house, to conclude who has a high or low probability of buying the house,\n",
    "# Regression     :Using parameters such as location and date, calculate the probability of rain,\n",
    "# Regression     :Estimating a one's salary using parameters such as education and experience,\n",
    "# Regression     :Estimation one's age,\n",
    "# Regression     :Estimation one's income,\n",
    "# Classification :Estimate the direction of price of any stock."
   ]
  }
 ],
 "metadata": {
  "kernelspec": {
   "display_name": "Python 3",
   "language": "python",
   "name": "python3"
  },
  "language_info": {
   "codemirror_mode": {
    "name": "ipython",
    "version": 3
   },
   "file_extension": ".py",
   "mimetype": "text/x-python",
   "name": "python",
   "nbconvert_exporter": "python",
   "pygments_lexer": "ipython3",
   "version": "3.7.6"
  }
 },
 "nbformat": 4,
 "nbformat_minor": 4
}
