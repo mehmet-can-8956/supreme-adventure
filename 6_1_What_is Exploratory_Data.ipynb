{
 "cells": [
  {
   "cell_type": "markdown",
   "metadata": {},
   "source": [
    "1. The purpose of data exploration is to examine the cleaned data,\n",
    "\n",
    "   after that to determine the relationship between the features and itself."
   ]
  },
  {
   "cell_type": "markdown",
   "metadata": {},
   "source": [
    "2. We can expect to see missing datas for example missing star rating\n",
    "\n",
    "   or missing comments, also we can observe conflicts between stars and\n",
    "   \n",
    "   comments i.e. when praising product giving one star.\n",
    "      \n",
    "  "
   ]
  },
  {
   "cell_type": "markdown",
   "metadata": {},
   "source": [
    "3. I would select the most frequent words for each star/point seperately.\n",
    "   \n",
    "   I would also examine the comments' length comparingly having how many \n",
    "   \n",
    "   stars earned to conclude if contented customers write long comments or\n",
    "   \n",
    "   unhappy customers write long comments etc."
   ]
  },
  {
   "cell_type": "markdown",
   "metadata": {},
   "source": [
    "4. The usefull features can be length of the comments or which words are\n",
    "\n",
    "   frequent in each comment group. The ages, genders, education status, living\n",
    "   \n",
    "   in a big city or not, occupation, how many times did the customers write\n",
    "   \n",
    "   a commment for products. what do the other customers think about the comments\n",
    "   \n",
    "   would be usefull for us."
   ]
  },
  {
   "cell_type": "markdown",
   "metadata": {},
   "source": [
    "5. We can access this data by exploring data, examining each variable\n",
    "\n",
    "   change via distribution diagrams for example."
   ]
  },
  {
   "cell_type": "markdown",
   "metadata": {},
   "source": [
    "6. The missing values should be taking into consideration because they \n",
    "\n",
    "   can mislead us errant consequences, also they can cause noisy data."
   ]
  },
  {
   "cell_type": "markdown",
   "metadata": {},
   "source": [
    "7. Yes I think that outliers have impact on dataset. Because when we implying \n",
    "\n",
    "   measuring methods via distribution examining they could us wrong outcomes."
   ]
  },
  {
   "cell_type": "markdown",
   "metadata": {},
   "source": [
    "8. Firstly I look at the size of the data, type of the data etc. After that \n",
    "\n",
    "   I clean the data, pick over missing and outliners data."
   ]
  }
 ],
 "metadata": {
  "kernelspec": {
   "display_name": "Python 3",
   "language": "python",
   "name": "python3"
  },
  "language_info": {
   "codemirror_mode": {
    "name": "ipython",
    "version": 3
   },
   "file_extension": ".py",
   "mimetype": "text/x-python",
   "name": "python",
   "nbconvert_exporter": "python",
   "pygments_lexer": "ipython3",
   "version": "3.7.6"
  }
 },
 "nbformat": 4,
 "nbformat_minor": 4
}
