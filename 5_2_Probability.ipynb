{
 "cells": [
  {
   "cell_type": "markdown",
   "metadata": {},
   "source": [
    "It has been found that some of the computers sold by Company A are defective.\n",
    "Assuming that there are 3 computer-producing companies (A, B, and C),\n",
    "the amount of computer production of these companies and the probabilities\n",
    "of defective production are as follows:\n",
    "Total production percentage :\n",
    "P(A)=0.40 \n",
    "P(B)=0.40 \n",
    "P(C)=0.20 \n",
    "Possibility of defective production :\n",
    "P(D|A)=0.015 \n",
    "P(D|B)=0.020 \n",
    "P(D|C)=0.010\n",
    "\n",
    "P (B Company | Defective Computer) = P (Defective Computer |  B Company) * P (B Production Percentage) / P (Defective Computer)\n",
    "\n",
    "\n",
    "\n",
    "\n",
    "P (B|D)=(0.020*0.40)/(0.015*0.40+0.020*0.40+(0.010*0.10))=%50"
   ]
  },
  {
   "cell_type": "code",
   "execution_count": null,
   "metadata": {},
   "outputs": [],
   "source": []
  }
 ],
 "metadata": {
  "kernelspec": {
   "display_name": "Python 3",
   "language": "python",
   "name": "python3"
  },
  "language_info": {
   "codemirror_mode": {
    "name": "ipython",
    "version": 3
   },
   "file_extension": ".py",
   "mimetype": "text/x-python",
   "name": "python",
   "nbconvert_exporter": "python",
   "pygments_lexer": "ipython3",
   "version": "3.7.6"
  }
 },
 "nbformat": 4,
 "nbformat_minor": 4
}
