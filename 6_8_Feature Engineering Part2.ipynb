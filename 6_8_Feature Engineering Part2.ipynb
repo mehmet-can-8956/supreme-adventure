{
 "cells": [
  {
   "cell_type": "code",
   "execution_count": 1,
   "metadata": {},
   "outputs": [],
   "source": [
    "# First we prepare the data set before making which calcualetes the weighted average.\n",
    "# Because the data set has lots of missing data. Otherwise how can we expect that\n",
    "# the weighted average become a usefull data."
   ]
  },
  {
   "cell_type": "code",
   "execution_count": 45,
   "metadata": {},
   "outputs": [],
   "source": [
    "import matplotlib.pyplot as plt\n",
    "import seaborn as sns\n",
    "import numpy as np\n",
    "import pandas as pd\n",
    "import seaborn as sns\n",
    "import scipy.stats as stats\n",
    "from scipy.stats.mstats import winsorize\n",
    "from sqlalchemy import create_engine\n",
    "import warnings\n",
    "\n",
    "warnings.filterwarnings('ignore')\n",
    "sns.set(style=\"whitegrid\")\n",
    "pd.options.display.float_format = '{:.2f}'.format\n",
    "plt.rcParams['figure.dpi'] = 100\n",
    "plt.rcParams['figure.figsize'] = (5,3.5)"
   ]
  },
  {
   "cell_type": "code",
   "execution_count": 12,
   "metadata": {},
   "outputs": [],
   "source": [
    "us_edu = pd.read_csv(\"datasets_95317_1078789_states_all.csv\")"
   ]
  },
  {
   "cell_type": "code",
   "execution_count": 13,
   "metadata": {},
   "outputs": [],
   "source": [
    "us_edu.drop(us_edu[us_edu[\"STATE\"]==\"NATIONAL\"].index, axis=0, inplace=True)"
   ]
  },
  {
   "cell_type": "code",
   "execution_count": 14,
   "metadata": {},
   "outputs": [],
   "source": [
    "us_edu.drop(us_edu[us_edu[\"STATE\"]==\"DODEA\"].index, axis=0, inplace=True)"
   ]
  },
  {
   "cell_type": "code",
   "execution_count": 15,
   "metadata": {},
   "outputs": [],
   "source": [
    "states=us_edu[\"STATE\"].unique()"
   ]
  },
  {
   "cell_type": "code",
   "execution_count": 18,
   "metadata": {},
   "outputs": [],
   "source": [
    "for eachcolumn in (\"ENROLL\",\"TOTAL_REVENUE\",\"FEDERAL_REVENUE\",\"STATE_REVENUE\",\"LOCAL_REVENUE\",\"TOTAL_EXPENDITURE\",\n",
    "                   \"INSTRUCTION_EXPENDITURE\",\"SUPPORT_SERVICES_EXPENDITURE\",\"OTHER_EXPENDITURE\",\"CAPITAL_OUTLAY_EXPENDITURE\",\n",
    "                   \"GRADES_PK_G\",\"GRADES_KG_G\",\"GRADES_4_G\",\"GRADES_8_G\",\"GRADES_12_G\",\"GRADES_1_8_G\",\"GRADES_9_12_G\",\n",
    "                   \"GRADES_ALL_G\",\"AVG_MATH_4_SCORE\",\"AVG_MATH_8_SCORE\",\"AVG_READING_4_SCORE\",\"AVG_READING_8_SCORE\"):\n",
    "    for state in states:\n",
    "        us_edu[us_edu[\"STATE\"]==state][eachcolumn].fillna(us_edu[us_edu[\"STATE\"]==state][eachcolumn].mean())"
   ]
  },
  {
   "cell_type": "code",
   "execution_count": 1,
   "metadata": {},
   "outputs": [],
   "source": [
    "# 1st Part : Making a weighted average : weighted average for math (wafm)"
   ]
  },
  {
   "cell_type": "code",
   "execution_count": 23,
   "metadata": {},
   "outputs": [],
   "source": [
    "us_edu[\"wafm\"]=(us_edu[\"GRADES_4_G\"]*us_edu[\"AVG_MATH_4_SCORE\"]+us_edu[\"GRADES_8_G\"]*us_edu[\"AVG_MATH_8_SCORE\"])/(us_edu[\"GRADES_4_G\"]+us_edu[\"GRADES_8_G\"])"
   ]
  },
  {
   "cell_type": "code",
   "execution_count": 31,
   "metadata": {},
   "outputs": [
    {
     "data": {
      "text/html": [
       "<div>\n",
       "<style scoped>\n",
       "    .dataframe tbody tr th:only-of-type {\n",
       "        vertical-align: middle;\n",
       "    }\n",
       "\n",
       "    .dataframe tbody tr th {\n",
       "        vertical-align: top;\n",
       "    }\n",
       "\n",
       "    .dataframe thead th {\n",
       "        text-align: right;\n",
       "    }\n",
       "</style>\n",
       "<table border=\"1\" class=\"dataframe\">\n",
       "  <thead>\n",
       "    <tr style=\"text-align: right;\">\n",
       "      <th></th>\n",
       "      <th>GRADES_4_G</th>\n",
       "      <th>GRADES_8_G</th>\n",
       "      <th>AVG_MATH_4_SCORE</th>\n",
       "      <th>AVG_MATH_8_SCORE</th>\n",
       "      <th>wafm</th>\n",
       "    </tr>\n",
       "  </thead>\n",
       "  <tbody>\n",
       "    <tr>\n",
       "      <th>0</th>\n",
       "      <td>57948.00</td>\n",
       "      <td>58025.00</td>\n",
       "      <td>208.00</td>\n",
       "      <td>252.00</td>\n",
       "      <td>230.01</td>\n",
       "    </tr>\n",
       "    <tr>\n",
       "      <th>1</th>\n",
       "      <td>9748.00</td>\n",
       "      <td>8789.00</td>\n",
       "      <td>234.78</td>\n",
       "      <td>280.00</td>\n",
       "      <td>256.22</td>\n",
       "    </tr>\n",
       "    <tr>\n",
       "      <th>2</th>\n",
       "      <td>55433.00</td>\n",
       "      <td>49081.00</td>\n",
       "      <td>215.00</td>\n",
       "      <td>265.00</td>\n",
       "      <td>238.48</td>\n",
       "    </tr>\n",
       "  </tbody>\n",
       "</table>\n",
       "</div>"
      ],
      "text/plain": [
       "   GRADES_4_G  GRADES_8_G  AVG_MATH_4_SCORE  AVG_MATH_8_SCORE   wafm\n",
       "0    57948.00    58025.00            208.00            252.00 230.01\n",
       "1     9748.00     8789.00            234.78            280.00 256.22\n",
       "2    55433.00    49081.00            215.00            265.00 238.48"
      ]
     },
     "execution_count": 31,
     "metadata": {},
     "output_type": "execute_result"
    }
   ],
   "source": [
    "us_edu[[\"GRADES_4_G\",\"GRADES_8_G\",\"AVG_MATH_4_SCORE\",\"AVG_MATH_8_SCORE\",\"wafm\"]].head(3)"
   ]
  },
  {
   "cell_type": "code",
   "execution_count": 10,
   "metadata": {},
   "outputs": [],
   "source": [
    "# 2nd Part\n",
    "# Examining the correlation table and heat map, total expenditure, instruction expenditure, support expenditure correlates\n",
    "# at same level, however all are in a low level."
   ]
  },
  {
   "cell_type": "code",
   "execution_count": 37,
   "metadata": {},
   "outputs": [
    {
     "data": {
      "text/html": [
       "<div>\n",
       "<style scoped>\n",
       "    .dataframe tbody tr th:only-of-type {\n",
       "        vertical-align: middle;\n",
       "    }\n",
       "\n",
       "    .dataframe tbody tr th {\n",
       "        vertical-align: top;\n",
       "    }\n",
       "\n",
       "    .dataframe thead th {\n",
       "        text-align: right;\n",
       "    }\n",
       "</style>\n",
       "<table border=\"1\" class=\"dataframe\">\n",
       "  <thead>\n",
       "    <tr style=\"text-align: right;\">\n",
       "      <th></th>\n",
       "      <th>TOTAL_EXPENDITURE</th>\n",
       "      <th>INSTRUCTION_EXPENDITURE</th>\n",
       "      <th>SUPPORT_SERVICES_EXPENDITURE</th>\n",
       "      <th>OTHER_EXPENDITURE</th>\n",
       "      <th>wafm</th>\n",
       "    </tr>\n",
       "  </thead>\n",
       "  <tbody>\n",
       "    <tr>\n",
       "      <th>TOTAL_EXPENDITURE</th>\n",
       "      <td>1.00</td>\n",
       "      <td>0.99</td>\n",
       "      <td>0.99</td>\n",
       "      <td>0.94</td>\n",
       "      <td>0.03</td>\n",
       "    </tr>\n",
       "    <tr>\n",
       "      <th>INSTRUCTION_EXPENDITURE</th>\n",
       "      <td>0.99</td>\n",
       "      <td>1.00</td>\n",
       "      <td>0.98</td>\n",
       "      <td>0.91</td>\n",
       "      <td>0.03</td>\n",
       "    </tr>\n",
       "    <tr>\n",
       "      <th>SUPPORT_SERVICES_EXPENDITURE</th>\n",
       "      <td>0.99</td>\n",
       "      <td>0.98</td>\n",
       "      <td>1.00</td>\n",
       "      <td>0.95</td>\n",
       "      <td>0.03</td>\n",
       "    </tr>\n",
       "    <tr>\n",
       "      <th>OTHER_EXPENDITURE</th>\n",
       "      <td>0.94</td>\n",
       "      <td>0.91</td>\n",
       "      <td>0.95</td>\n",
       "      <td>1.00</td>\n",
       "      <td>-0.05</td>\n",
       "    </tr>\n",
       "    <tr>\n",
       "      <th>wafm</th>\n",
       "      <td>0.03</td>\n",
       "      <td>0.03</td>\n",
       "      <td>0.03</td>\n",
       "      <td>-0.05</td>\n",
       "      <td>1.00</td>\n",
       "    </tr>\n",
       "  </tbody>\n",
       "</table>\n",
       "</div>"
      ],
      "text/plain": [
       "                              TOTAL_EXPENDITURE  INSTRUCTION_EXPENDITURE  \\\n",
       "TOTAL_EXPENDITURE                          1.00                     0.99   \n",
       "INSTRUCTION_EXPENDITURE                    0.99                     1.00   \n",
       "SUPPORT_SERVICES_EXPENDITURE               0.99                     0.98   \n",
       "OTHER_EXPENDITURE                          0.94                     0.91   \n",
       "wafm                                       0.03                     0.03   \n",
       "\n",
       "                              SUPPORT_SERVICES_EXPENDITURE  OTHER_EXPENDITURE  \\\n",
       "TOTAL_EXPENDITURE                                     0.99               0.94   \n",
       "INSTRUCTION_EXPENDITURE                               0.98               0.91   \n",
       "SUPPORT_SERVICES_EXPENDITURE                          1.00               0.95   \n",
       "OTHER_EXPENDITURE                                     0.95               1.00   \n",
       "wafm                                                  0.03              -0.05   \n",
       "\n",
       "                              wafm  \n",
       "TOTAL_EXPENDITURE             0.03  \n",
       "INSTRUCTION_EXPENDITURE       0.03  \n",
       "SUPPORT_SERVICES_EXPENDITURE  0.03  \n",
       "OTHER_EXPENDITURE            -0.05  \n",
       "wafm                          1.00  "
      ]
     },
     "execution_count": 37,
     "metadata": {},
     "output_type": "execute_result"
    }
   ],
   "source": [
    "wc=us_edu[[\"TOTAL_EXPENDITURE\",\"INSTRUCTION_EXPENDITURE\",\"SUPPORT_SERVICES_EXPENDITURE\",\"OTHER_EXPENDITURE\",\"wafm\"]].corr()\n",
    "wc"
   ]
  },
  {
   "cell_type": "code",
   "execution_count": 46,
   "metadata": {},
   "outputs": [
    {
     "data": {
      "image/png": "[encoded data removed]",
      "text/plain": [
       "<Figure size 500x350 with 2 Axes>"
      ]
     },
     "metadata": {},
     "output_type": "display_data"
    }
   ],
   "source": [
    "sns.heatmap(wc, annot=True, fmt='.2f', annot_kws={\"size\": 10}, linewidths=.5, vmin=0, vmax=1, cmap='viridis')\n",
    "plt.title(\"Correlation Matrix (Movie)\")\n",
    "\n",
    "plt.show()"
   ]
  },
  {
   "cell_type": "code",
   "execution_count": 50,
   "metadata": {},
   "outputs": [],
   "source": [
    "# 3rd Part"
   ]
  },
  {
   "cell_type": "code",
   "execution_count": 58,
   "metadata": {},
   "outputs": [],
   "source": [
    "from sklearn.decomposition import PCA\n",
    "from sklearn.preprocessing import StandardScaler"
   ]
  },
  {
   "cell_type": "code",
   "execution_count": 59,
   "metadata": {},
   "outputs": [],
   "source": [
    "us_pca=us_edu[[\"GRADES_4_G\",\"GRADES_8_G\",\"AVG_MATH_4_SCORE\",\"AVG_MATH_8_SCORE\"]]"
   ]
  },
  {
   "cell_type": "code",
   "execution_count": 69,
   "metadata": {},
   "outputs": [],
   "source": [
    "X=us_pca.values"
   ]
  },
  {
   "cell_type": "code",
   "execution_count": 70,
   "metadata": {},
   "outputs": [],
   "source": [
    "X = StandardScaler().fit_transform(us_pca)\n",
    "pca = PCA(n_components=4)\n",
    "principalComponents=pca.fit_transform(X)"
   ]
  },
  {
   "cell_type": "code",
   "execution_count": 71,
   "metadata": {},
   "outputs": [
    {
     "name": "stdout",
     "output_type": "stream",
     "text": [
      "[0.51784607 0.45405504 0.02747243 0.00062647]\n",
      "[ 51.78  97.19  99.94 100.  ]\n"
     ]
    }
   ],
   "source": [
    "exp_var= pca.explained_variance_ratio_\n",
    "cumsum_var=np.cumsum(np.round(pca.explained_variance_ratio_, decimals=4)*100)\n",
    "print(exp_var)\n",
    "print(cumsum_var)"
   ]
  },
  {
   "cell_type": "code",
   "execution_count": null,
   "metadata": {},
   "outputs": [],
   "source": [
    "# The first principal component PC1 explains 51,78% of the variation in the original data "
   ]
  },
  {
   "cell_type": "code",
   "execution_count": null,
   "metadata": {},
   "outputs": [],
   "source": [
    "# 4th Part"
   ]
  },
  {
   "cell_type": "code",
   "execution_count": 84,
   "metadata": {},
   "outputs": [],
   "source": [
    "X=wc.values"
   ]
  },
  {
   "cell_type": "code",
   "execution_count": 85,
   "metadata": {},
   "outputs": [],
   "source": [
    "X = StandardScaler().fit_transform(wc)\n",
    "pca = PCA(n_components=4)\n",
    "principalComponents=pca.fit_transform(X)"
   ]
  },
  {
   "cell_type": "code",
   "execution_count": 86,
   "metadata": {},
   "outputs": [
    {
     "name": "stdout",
     "output_type": "stream",
     "text": [
      "[9.95105139e-01 4.67659857e-03 2.13255044e-04 5.00749395e-06]\n",
      "[ 99.51  99.98 100.   100.  ]\n"
     ]
    }
   ],
   "source": [
    "exp_var= pca.explained_variance_ratio_\n",
    "cumsum_var=np.cumsum(np.round(pca.explained_variance_ratio_, decimals=4)*100)\n",
    "print(exp_var)\n",
    "print(cumsum_var)"
   ]
  },
  {
   "cell_type": "code",
   "execution_count": null,
   "metadata": {},
   "outputs": [],
   "source": [
    "# The correlation between the GPA the first principal component is 99 percent"
   ]
  },
  {
   "cell_type": "code",
   "execution_count": null,
   "metadata": {},
   "outputs": [],
   "source": [
    "# 5th Part"
   ]
  },
  {
   "cell_type": "code",
   "execution_count": null,
   "metadata": {},
   "outputs": [],
   "source": [
    "# When I need to choose the most appropriate variables for my model, \n",
    "# I would prefer the first basic variables instead of the expenditure items.\n",
    "# Because with the information of principal component I can explain\n",
    "# 50 percent of my data. So I can lots of amount expenses."
   ]
  }
 ],
 "metadata": {
  "kernelspec": {
   "display_name": "Python 3",
   "language": "python",
   "name": "python3"
  },
  "language_info": {
   "codemirror_mode": {
    "name": "ipython",
    "version": 3
   },
   "file_extension": ".py",
   "mimetype": "text/x-python",
   "name": "python",
   "nbconvert_exporter": "python",
   "pygments_lexer": "ipython3",
   "version": "3.7.6"
  }
 },
 "nbformat": 4,
 "nbformat_minor": 4
}
