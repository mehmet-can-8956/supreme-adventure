{
 "cells": [
  {
   "cell_type": "code",
   "execution_count": null,
   "metadata": {},
   "outputs": [],
   "source": [
    "# 1st Assignment\n",
    "\n",
    "# Determine the types of the below-given variables:\n",
    "\n",
    "#   Age           : Continuous (Ratio Variables) sometimes discrete\n",
    "#   Salary        : Continuous (Ratio Variables)\n",
    "#   Income        : Continuous (Ratio Variables)\n",
    "#   Customer type : Nominal\n",
    "#   Stock price   : Continuous (Ratio Variables)"
   ]
  },
  {
   "cell_type": "code",
   "execution_count": null,
   "metadata": {},
   "outputs": [],
   "source": [
    "# 2nd Assignment \n",
    "# I choose duration varible. The input numbers are integers however variable type float\n",
    "# So we can use both of them"
   ]
  },
  {
   "cell_type": "code",
   "execution_count": 2,
   "metadata": {},
   "outputs": [],
   "source": [
    "import pandas as pd\n",
    "import numpy as np\n",
    "movie = pd.read_csv(\"https://bootrain-lms-assets.s3.eu-central-1.amazonaws.com/bootrain-lms-static/datasets/movie.csv\")"
   ]
  },
  {
   "cell_type": "code",
   "execution_count": 31,
   "metadata": {},
   "outputs": [],
   "source": [
    "def make_discrete(duration):\n",
    "    if duration >= 120:\n",
    "        return \"long\"\n",
    "    elif (duration < 100) and (duration < 120):\n",
    "        return \"middle\"\n",
    "    else:\n",
    "        return \"short\""
   ]
  },
  {
   "cell_type": "code",
   "execution_count": 32,
   "metadata": {},
   "outputs": [
    {
     "data": {
      "text/plain": [
       "duration_grup\n",
       "long      1145\n",
       "middle    2038\n",
       "short     1845\n",
       "Name: duration, dtype: int64"
      ]
     },
     "execution_count": 32,
     "metadata": {},
     "output_type": "execute_result"
    }
   ],
   "source": [
    "movie['duration_grup'] = movie['duration'].apply(make_discrete)\n",
    "movie.groupby(\"duration_grup\")[\"duration\"].count()"
   ]
  },
  {
   "cell_type": "code",
   "execution_count": 33,
   "metadata": {},
   "outputs": [],
   "source": [
    "# 3rd Assignment\n",
    "# It is possible to convert categorical variable into numerical one.\n",
    "# we can achieve it by two ways. First we can use convert functions\n",
    "# second we can define conditional functions to convert"
   ]
  },
  {
   "cell_type": "code",
   "execution_count": null,
   "metadata": {},
   "outputs": [],
   "source": [
    "# 4th Assignment\n",
    "# to get a clear view of data discrete could be preferred sometimes"
   ]
  },
  {
   "cell_type": "code",
   "execution_count": null,
   "metadata": {},
   "outputs": [],
   "source": [
    "# 5th Assignment\n",
    "# for example variable for age can be continious or attribute, or another instance for\n",
    "# confusing dataset is school's grade i.e 5th grade 6th grade"
   ]
  }
 ],
 "metadata": {
  "kernelspec": {
   "display_name": "Python 3",
   "language": "python",
   "name": "python3"
  },
  "language_info": {
   "codemirror_mode": {
    "name": "ipython",
    "version": 3
   },
   "file_extension": ".py",
   "mimetype": "text/x-python",
   "name": "python",
   "nbconvert_exporter": "python",
   "pygments_lexer": "ipython3",
   "version": "3.7.6"
  }
 },
 "nbformat": 4,
 "nbformat_minor": 4
}
