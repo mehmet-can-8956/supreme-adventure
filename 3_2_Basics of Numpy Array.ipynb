{
 "cells": [
  {
   "cell_type": "code",
   "execution_count": 38,
   "metadata": {},
   "outputs": [],
   "source": [
    "import numpy as np"
   ]
  },
  {
   "cell_type": "code",
   "execution_count": 31,
   "metadata": {},
   "outputs": [],
   "source": [
    "squaremeter = np.array([200, 190, 180, 170, 160, 150, 140, 130, 120, 110])\n",
    "rooms = np.array([5, 5, 4, 4, 4, 3, 3, 3, 2, 2])\n",
    "price= np.array([100000, 95000, 90000, 85000, 80000, 75000, 70000, 65000, 60000, 55000])"
   ]
  },
  {
   "cell_type": "code",
   "execution_count": 32,
   "metadata": {},
   "outputs": [
    {
     "name": "stdout",
     "output_type": "stream",
     "text": [
      "[[   200    190    180    170    160    150    140    130    120    110]\n",
      " [     5      5      4      4      4      3      3      3      2      2]\n",
      " [100000  95000  90000  85000  80000  75000  70000  65000  60000  55000]]\n"
     ]
    }
   ],
   "source": [
    "houses = np.array([squaremeter, rooms, price])\n",
    "print(houses)"
   ]
  },
  {
   "cell_type": "code",
   "execution_count": 33,
   "metadata": {},
   "outputs": [
    {
     "name": "stdout",
     "output_type": "stream",
     "text": [
      "[[   200      5 100000]\n",
      " [   190      5  95000]\n",
      " [   180      4  90000]\n",
      " [   170      4  85000]\n",
      " [   160      4  80000]\n",
      " [   150      3  75000]\n",
      " [   140      3  70000]\n",
      " [   130      3  65000]\n",
      " [   120      2  60000]\n",
      " [   110      2  55000]]\n"
     ]
    }
   ],
   "source": [
    "features=houses.transpose()\n",
    "print(features)"
   ]
  },
  {
   "cell_type": "code",
   "execution_count": 34,
   "metadata": {},
   "outputs": [
    {
     "data": {
      "text/plain": [
       "(10, 3)"
      ]
     },
     "execution_count": 34,
     "metadata": {},
     "output_type": "execute_result"
    }
   ],
   "source": [
    "features.shape"
   ]
  },
  {
   "cell_type": "code",
   "execution_count": 35,
   "metadata": {},
   "outputs": [],
   "source": [
    "#it means the array has two dimension\n",
    "#the array has 10 rows and 3 columns"
   ]
  },
  {
   "cell_type": "code",
   "execution_count": 59,
   "metadata": {},
   "outputs": [
    {
     "name": "stdin",
     "output_type": "stream",
     "text": [
      "Enter the number of rows 6\n",
      "Enter the number of columns 5\n"
     ]
    },
    {
     "name": "stdout",
     "output_type": "stream",
     "text": [
      "[[1 1 1 1 1]\n",
      " [1 0 1 0 1]\n",
      " [1 1 1 1 1]\n",
      " [1 0 1 0 1]\n",
      " [1 1 1 1 1]\n",
      " [1 0 1 0 1]]\n"
     ]
    }
   ],
   "source": [
    "row=int(input(\"Enter the number of rows\"))\n",
    "column=int(input(\"Enter the number of columns\"))\n",
    "\n",
    "def make_array(x, y):\n",
    "    a=np.full((x,y),1)\n",
    "    for i in range(x):\n",
    "        for j in range(y):\n",
    "            if i%2!=0 and j%2!=0:\n",
    "                a[i][j]=0\n",
    "    return (print(a))\n",
    "\n",
    "make_array(row,column)\n"
   ]
  }
 ],
 "metadata": {
  "kernelspec": {
   "display_name": "Python 3",
   "language": "python",
   "name": "python3"
  },
  "language_info": {
   "codemirror_mode": {
    "name": "ipython",
    "version": 3
   },
   "file_extension": ".py",
   "mimetype": "text/x-python",
   "name": "python",
   "nbconvert_exporter": "python",
   "pygments_lexer": "ipython3",
   "version": "3.7.6"
  }
 },
 "nbformat": 4,
 "nbformat_minor": 4
}
