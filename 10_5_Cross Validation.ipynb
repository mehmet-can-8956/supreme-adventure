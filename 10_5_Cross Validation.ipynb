{
 "cells": [
  {
   "cell_type": "code",
   "execution_count": 15,
   "metadata": {},
   "outputs": [],
   "source": [
    "import matplotlib.pyplot as plt\n",
    "import numpy as np\n",
    "import pandas as pd\n",
    "from sklearn.linear_model import LinearRegression\n",
    "from sklearn.linear_model import LogisticRegression\n",
    "from sklearn.model_selection import train_test_split\n",
    "from sklearn.metrics import mean_absolute_error\n",
    "from statsmodels.tools.eval_measures import mse, rmse\n",
    "\n",
    "# Display preferences.\n",
    "%matplotlib inline\n",
    "pd.options.display.float_format = '{:.3f}'.format\n",
    "\n",
    "import warnings\n",
    "warnings.filterwarnings(action=\"ignore\")"
   ]
  },
  {
   "cell_type": "code",
   "execution_count": 16,
   "metadata": {},
   "outputs": [
    {
     "data": {
      "text/html": [
       "<div>\n",
       "<style scoped>\n",
       "    .dataframe tbody tr th:only-of-type {\n",
       "        vertical-align: middle;\n",
       "    }\n",
       "\n",
       "    .dataframe tbody tr th {\n",
       "        vertical-align: top;\n",
       "    }\n",
       "\n",
       "    .dataframe thead th {\n",
       "        text-align: right;\n",
       "    }\n",
       "</style>\n",
       "<table border=\"1\" class=\"dataframe\">\n",
       "  <thead>\n",
       "    <tr style=\"text-align: right;\">\n",
       "      <th></th>\n",
       "      <th>Survived</th>\n",
       "      <th>Pclass</th>\n",
       "      <th>Name</th>\n",
       "      <th>Sex</th>\n",
       "      <th>Age</th>\n",
       "      <th>SibSp</th>\n",
       "      <th>Parch</th>\n",
       "      <th>Ticket</th>\n",
       "      <th>Fare</th>\n",
       "      <th>Cabin</th>\n",
       "      <th>Embarked</th>\n",
       "    </tr>\n",
       "    <tr>\n",
       "      <th>PassengerId</th>\n",
       "      <th></th>\n",
       "      <th></th>\n",
       "      <th></th>\n",
       "      <th></th>\n",
       "      <th></th>\n",
       "      <th></th>\n",
       "      <th></th>\n",
       "      <th></th>\n",
       "      <th></th>\n",
       "      <th></th>\n",
       "      <th></th>\n",
       "    </tr>\n",
       "  </thead>\n",
       "  <tbody>\n",
       "    <tr>\n",
       "      <th>1</th>\n",
       "      <td>0</td>\n",
       "      <td>3</td>\n",
       "      <td>Braund, Mr. Owen Harris</td>\n",
       "      <td>male</td>\n",
       "      <td>22.000</td>\n",
       "      <td>1</td>\n",
       "      <td>0</td>\n",
       "      <td>A/5 21171</td>\n",
       "      <td>7.250</td>\n",
       "      <td>NaN</td>\n",
       "      <td>S</td>\n",
       "    </tr>\n",
       "    <tr>\n",
       "      <th>2</th>\n",
       "      <td>1</td>\n",
       "      <td>1</td>\n",
       "      <td>Cumings, Mrs. John Bradley (Florence Briggs Th...</td>\n",
       "      <td>female</td>\n",
       "      <td>38.000</td>\n",
       "      <td>1</td>\n",
       "      <td>0</td>\n",
       "      <td>PC 17599</td>\n",
       "      <td>71.283</td>\n",
       "      <td>C85</td>\n",
       "      <td>C</td>\n",
       "    </tr>\n",
       "    <tr>\n",
       "      <th>3</th>\n",
       "      <td>1</td>\n",
       "      <td>3</td>\n",
       "      <td>Heikkinen, Miss. Laina</td>\n",
       "      <td>female</td>\n",
       "      <td>26.000</td>\n",
       "      <td>0</td>\n",
       "      <td>0</td>\n",
       "      <td>STON/O2. 3101282</td>\n",
       "      <td>7.925</td>\n",
       "      <td>NaN</td>\n",
       "      <td>S</td>\n",
       "    </tr>\n",
       "  </tbody>\n",
       "</table>\n",
       "</div>"
      ],
      "text/plain": [
       "             Survived  Pclass  \\\n",
       "PassengerId                     \n",
       "1                   0       3   \n",
       "2                   1       1   \n",
       "3                   1       3   \n",
       "\n",
       "                                                          Name     Sex    Age  \\\n",
       "PassengerId                                                                     \n",
       "1                                      Braund, Mr. Owen Harris    male 22.000   \n",
       "2            Cumings, Mrs. John Bradley (Florence Briggs Th...  female 38.000   \n",
       "3                                       Heikkinen, Miss. Laina  female 26.000   \n",
       "\n",
       "             SibSp  Parch            Ticket   Fare Cabin Embarked  \n",
       "PassengerId                                                        \n",
       "1                1      0         A/5 21171  7.250   NaN        S  \n",
       "2                1      0          PC 17599 71.283   C85        C  \n",
       "3                0      0  STON/O2. 3101282  7.925   NaN        S  "
      ]
     },
     "execution_count": 16,
     "metadata": {},
     "output_type": "execute_result"
    }
   ],
   "source": [
    "titanic = pd.read_csv(\"train.csv\", index_col=0)\n",
    "titanic.head(3)"
   ]
  },
  {
   "cell_type": "code",
   "execution_count": 18,
   "metadata": {},
   "outputs": [],
   "source": [
    "# Y is the target variable\n",
    "y = titanic['Survived']\n",
    "# X is the feature set which includes\n",
    "X = titanic[['Fare','Pclass']]"
   ]
  },
  {
   "cell_type": "code",
   "execution_count": 28,
   "metadata": {},
   "outputs": [
    {
     "data": {
      "text/plain": [
       "pandas.core.indexes.numeric.Int64Index"
      ]
     },
     "execution_count": 28,
     "metadata": {},
     "output_type": "execute_result"
    }
   ],
   "source": [
    "type(X.index)"
   ]
  },
  {
   "cell_type": "code",
   "execution_count": 20,
   "metadata": {},
   "outputs": [
    {
     "name": "stdout",
     "output_type": "stream",
     "text": [
      "Number of data points in training set:  712  \n",
      "Number of targets in training set    :  712\n",
      "\n",
      "Number of data points in test set    :  179  \n",
      "Number of targets in test set        :  179  \n"
     ]
    }
   ],
   "source": [
    "import seaborn as sns\n",
    "\n",
    "X_train, X_test, y_train, y_test = train_test_split(X, y, test_size=0.2)\n",
    "\n",
    "print(\"Number of data points in training set:  {}  \".format(len(X_train)))\n",
    "print(\"Number of targets in training set    :  {}\\n\".format(len(y_train)))\n",
    "\n",
    "print(\"Number of data points in test set    :  {}  \".format(len(X_test)))\n",
    "print(\"Number of targets in test set        :  {}  \".format(len(y_test)))"
   ]
  },
  {
   "cell_type": "code",
   "execution_count": 21,
   "metadata": {},
   "outputs": [
    {
     "data": {
      "image/png": "[encoded data removed]",
      "text/plain": [
       "<Figure size 864x360 with 3 Axes>"
      ]
     },
     "metadata": {
      "needs_background": "light"
     },
     "output_type": "display_data"
    },
    {
     "name": "stdout",
     "output_type": "stream",
     "text": [
      "Proportion of '0' in all data     : %62 \n",
      "Proportion of '0' in training set : %62 \n",
      "Proportion of '0' in test set     : %61 \n"
     ]
    }
   ],
   "source": [
    "plt.figure(figsize=(12,5))\n",
    "plt.style.use('fivethirtyeight')\n",
    "plt.subplots_adjust(wspace=0.4)\n",
    "\n",
    "plt.subplot(131)\n",
    "sns.countplot(y)\n",
    "plt.title(\"All Data\")\n",
    "\n",
    "plt.subplot(132)\n",
    "sns.countplot(y_train)\n",
    "plt.title(\"Training Set\")\n",
    "\n",
    "plt.subplot(133)\n",
    "sns.countplot(y_test)\n",
    "plt.title(\"Test Set\")\n",
    "\n",
    "plt.show()\n",
    "\n",
    "print(\"Proportion of '0' in all data     : %{:.0f} \".format(len(y[y==0])/len(y)*100))\n",
    "print(\"Proportion of '0' in training set : %{:.0f} \".format(len(y_train[y_train==0])/len(y_train)*100))\n",
    "print(\"Proportion of '0' in test set     : %{:.0f} \".format(len(y_test[y_test==0])/len(y_test)*100))"
   ]
  },
  {
   "cell_type": "code",
   "execution_count": 22,
   "metadata": {},
   "outputs": [
    {
     "name": "stdout",
     "output_type": "stream",
     "text": [
      "Proportion of '0' in all data     : %62 \n",
      "Proportion of '0' in training set : %62 \n",
      "Proportion of '0' in test set     : %61 \n"
     ]
    }
   ],
   "source": [
    "X_train, X_test, y_train, y_test = train_test_split(X, y, test_size=0.2, stratify=y)\n",
    "\n",
    "print(\"Proportion of '0' in all data     : %{:.0f} \".format(len(y[y==0])/len(y)*100))\n",
    "print(\"Proportion of '0' in training set : %{:.0f} \".format(len(y_train[y_train==0])/len(y_train)*100))\n",
    "print(\"Proportion of '0' in test set     : %{:.0f} \".format(len(y_test[y_test==0])/len(y_test)*100))"
   ]
  },
  {
   "cell_type": "code",
   "execution_count": 23,
   "metadata": {},
   "outputs": [
    {
     "data": {
      "text/plain": [
       "0.659217877094972"
      ]
     },
     "execution_count": 23,
     "metadata": {},
     "output_type": "execute_result"
    }
   ],
   "source": [
    "from sklearn.linear_model import LogisticRegression\n",
    "\n",
    "model = LogisticRegression()\n",
    "model.fit(X_train, y_train)\n",
    "\n",
    "pred_train = model.predict(X_train)\n",
    "pred_test = model.predict(X_test)\n",
    "\n",
    "model.score(X_test, y_test)"
   ]
  },
  {
   "cell_type": "code",
   "execution_count": 24,
   "metadata": {},
   "outputs": [],
   "source": [
    "from sklearn.model_selection import KFold\n",
    "\n",
    "kf = KFold(n_splits=5, shuffle=True, random_state=1111)"
   ]
  },
  {
   "cell_type": "code",
   "execution_count": 25,
   "metadata": {},
   "outputs": [
    {
     "name": "stdout",
     "output_type": "stream",
     "text": [
      "No.1 Train set size : 712\n",
      "No.1 Test set size     : 179\n",
      "---------------------------- \n",
      "\n",
      "No.2 Train set size : 713\n",
      "No.2 Test set size     : 178\n",
      "---------------------------- \n",
      "\n",
      "No.3 Train set size : 713\n",
      "No.3 Test set size     : 178\n",
      "---------------------------- \n",
      "\n",
      "No.4 Train set size : 713\n",
      "No.4 Test set size     : 178\n",
      "---------------------------- \n",
      "\n",
      "No.5 Train set size : 713\n",
      "No.5 Test set size     : 178\n",
      "---------------------------- \n",
      "\n"
     ]
    }
   ],
   "source": [
    "pieces = kf.split(X)\n",
    "\n",
    "for num, (train_index, test_index) in enumerate(pieces):\n",
    "    print(\"No.{} Train set size : {}\".format(num+1,len(train_index)))\n",
    "    print(\"No.{} Test set size     : {}\".format(num+1,len(test_index)))\n",
    "    print('-'*28, \"\\n\")"
   ]
  },
  {
   "cell_type": "code",
   "execution_count": 30,
   "metadata": {},
   "outputs": [
    {
     "name": "stdout",
     "output_type": "stream",
     "text": [
      "Piece No.1 score: 0.715\n",
      "----------------------- \n",
      "\n",
      "Piece No.2 score: 0.708\n",
      "----------------------- \n",
      "\n",
      "Piece No.3 score: 0.685\n",
      "----------------------- \n",
      "\n",
      "Piece No.4 score: 0.607\n",
      "----------------------- \n",
      "\n",
      "Piece No.5 score: 0.680\n",
      "----------------------- \n",
      "\n"
     ]
    }
   ],
   "source": [
    "from sklearn.metrics import mean_squared_error\n",
    "\n",
    "model2 = LogisticRegression()\n",
    "\n",
    "pieces = kf.split(X)\n",
    "score_list = []\n",
    "\n",
    "for i, (train_indeks, test_indeks) in enumerate(pieces):\n",
    "    X_train, y_train = X.iloc[train_indeks], y.iloc[train_indeks]\n",
    "    X_test, y_test = X.iloc[test_indeks], y.iloc[test_indeks]\n",
    "    \n",
    "    model2.fit(X_train, y_train)\n",
    "    \n",
    "    prediction = model2.predict(X_test)\n",
    "    \n",
    "    score = model.score(X_test, y_test)  \n",
    "    score_list.append(score)\n",
    "    \n",
    "    print(\"Piece No.{} score: {:.3f}\".format(i+1, score))\n",
    "    print(\"-\"*23, \"\\n\")"
   ]
  },
  {
   "cell_type": "code",
   "execution_count": 31,
   "metadata": {},
   "outputs": [
    {
     "name": "stdout",
     "output_type": "stream",
     "text": [
      "Mean score : 0.68\n"
     ]
    }
   ],
   "source": [
    "print(\"Mean score : {:.2f}\".format(np.mean(score_list)))"
   ]
  },
  {
   "cell_type": "code",
   "execution_count": 32,
   "metadata": {},
   "outputs": [],
   "source": [
    "from sklearn.model_selection import cross_validate, cross_val_score"
   ]
  },
  {
   "cell_type": "code",
   "execution_count": 33,
   "metadata": {},
   "outputs": [
    {
     "name": "stdout",
     "output_type": "stream",
     "text": [
      "Train Scores :\n",
      "[0.68913858 0.68578554 0.67830424 0.680798   0.67705736 0.68204489\n",
      " 0.67581047 0.67331671 0.67581047 0.67206983]\n",
      "--------------------------------------------------\n",
      "Test Scores     :\n",
      "[0.58888889 0.61797753 0.68539326 0.66292135 0.69662921 0.65168539\n",
      " 0.70786517 0.73033708 0.70786517 0.74157303]\n"
     ]
    }
   ],
   "source": [
    "log_reg_model = LogisticRegression()\n",
    "\n",
    "cv = cross_validate(estimator=log_reg_model,\n",
    "                    X=X,\n",
    "                    y=y,\n",
    "                    cv=10,\n",
    "                    return_train_score=True,\n",
    "                   )\n",
    "\n",
    "print('Train Scores :', cv['train_score'], sep = '\\n')\n",
    "print(\"-\"*50)\n",
    "print('Test Scores     :', cv['test_score'], sep = '\\n')"
   ]
  },
  {
   "cell_type": "code",
   "execution_count": 34,
   "metadata": {},
   "outputs": [
    {
     "name": "stdout",
     "output_type": "stream",
     "text": [
      "Mean score of train set :  0.679013608301344\n",
      "Mean score of test set  :  0.6791136079900124\n"
     ]
    }
   ],
   "source": [
    "print('Mean score of train set : ', cv['train_score'].mean())\n",
    "print('Mean score of test set  : ', cv['test_score'].mean())"
   ]
  },
  {
   "cell_type": "code",
   "execution_count": 35,
   "metadata": {},
   "outputs": [],
   "source": [
    "cv = cross_validate(estimator=log_reg_model,\n",
    "                    X=X,\n",
    "                    y=y,\n",
    "                    cv=10,\n",
    "                    return_train_score=True,\n",
    "                    scoring = ['accuracy', 'precision', 'r2']\n",
    "                   )"
   ]
  },
  {
   "cell_type": "code",
   "execution_count": 36,
   "metadata": {},
   "outputs": [
    {
     "name": "stdout",
     "output_type": "stream",
     "text": [
      "Train Set Mean Accuracy  : 0.68  \n",
      "Train Set Mean R-square  : -0.36  \n",
      "Train Set Mean Precision : 0.63\n",
      "\n",
      "Test Set Mean Accuracy   : 0.68  \n",
      "Test Set Mean R-square   : -0.36  \n",
      "Test Set Mean Precision  : 0.63  \n"
     ]
    }
   ],
   "source": [
    "print('Train Set Mean Accuracy  : {:.2f}  '.format(cv['train_accuracy'].mean()))\n",
    "print('Train Set Mean R-square  : {:.2f}  '.format(cv['train_r2'].mean()))\n",
    "print('Train Set Mean Precision : {:.2f}\\n'.format(cv['train_precision'].mean()))\n",
    "\n",
    "print('Test Set Mean Accuracy   : {:.2f}  '.format(cv['test_accuracy'].mean()))\n",
    "print('Test Set Mean R-square   : {:.2f}  '.format(cv['test_r2'].mean()))\n",
    "print('Test Set Mean Precision  : {:.2f}  '.format(cv['test_precision'].mean()))"
   ]
  },
  {
   "cell_type": "code",
   "execution_count": 37,
   "metadata": {},
   "outputs": [
    {
     "name": "stdout",
     "output_type": "stream",
     "text": [
      "Model Scores : \n",
      "[0.58888889 0.61797753 0.68539326 0.66292135 0.69662921 0.65168539\n",
      " 0.70786517 0.73033708 0.70786517 0.74157303]\n"
     ]
    }
   ],
   "source": [
    "cv = cross_val_score(estimator=log_reg_model,\n",
    "                     X=X,\n",
    "                     y=y,\n",
    "                     cv=10,\n",
    "                    )\n",
    "\n",
    "print('Model Scores : ', cv, sep = '\\n')"
   ]
  },
  {
   "cell_type": "code",
   "execution_count": 38,
   "metadata": {},
   "outputs": [
    {
     "name": "stdout",
     "output_type": "stream",
     "text": [
      "[0 1 0 1 0 0 1 0 0 0]\n"
     ]
    }
   ],
   "source": [
    "from sklearn.model_selection import cross_val_predict\n",
    "\n",
    "y_pred = cross_val_predict(estimator=log_reg_model,\n",
    "                           X=X,\n",
    "                           y=y,\n",
    "                           cv=10,\n",
    "                          )\n",
    "print(y_pred[0:10])"
   ]
  },
  {
   "cell_type": "code",
   "execution_count": 39,
   "metadata": {},
   "outputs": [
    {
     "name": "stdout",
     "output_type": "stream",
     "text": [
      "{'C': 1.0, 'class_weight': None, 'dual': False, 'fit_intercept': True, 'intercept_scaling': 1, 'l1_ratio': None, 'max_iter': 100, 'multi_class': 'auto', 'n_jobs': None, 'penalty': 'l2', 'random_state': None, 'solver': 'lbfgs', 'tol': 0.0001, 'verbose': 0, 'warm_start': False}\n"
     ]
    }
   ],
   "source": [
    "log_reg = LogisticRegression()\n",
    "\n",
    "print(log_reg.get_params())"
   ]
  },
  {
   "cell_type": "code",
   "execution_count": 40,
   "metadata": {},
   "outputs": [],
   "source": [
    "parameters = {\"C\": [10 ** x for x in range (-5, 5, 1)],\n",
    "              \"penalty\": ['l1', 'l2']\n",
    "             }"
   ]
  },
  {
   "cell_type": "code",
   "execution_count": 41,
   "metadata": {},
   "outputs": [
    {
     "data": {
      "text/plain": [
       "GridSearchCV(cv=10, estimator=LogisticRegression(),\n",
       "             param_grid={'C': [1e-05, 0.0001, 0.001, 0.01, 0.1, 1, 10, 100,\n",
       "                               1000, 10000],\n",
       "                         'penalty': ['l1', 'l2']})"
      ]
     },
     "execution_count": 41,
     "metadata": {},
     "output_type": "execute_result"
    }
   ],
   "source": [
    "from sklearn.model_selection import GridSearchCV\n",
    "\n",
    "grid_cv = GridSearchCV(estimator=log_reg,\n",
    "                       param_grid = parameters,\n",
    "                       cv = 10\n",
    "                      )\n",
    "\n",
    "grid_cv.fit(X, y)"
   ]
  },
  {
   "cell_type": "code",
   "execution_count": 42,
   "metadata": {},
   "outputs": [
    {
     "name": "stdout",
     "output_type": "stream",
     "text": [
      "Best Parameters :  {'C': 0.01, 'penalty': 'l2'}\n",
      "Best Score      :  0.6791385767790261\n"
     ]
    }
   ],
   "source": [
    "print(\"Best Parameters : \", grid_cv.best_params_)\n",
    "print(\"Best Score      : \", grid_cv.best_score_)"
   ]
  },
  {
   "cell_type": "code",
   "execution_count": 43,
   "metadata": {},
   "outputs": [
    {
     "data": {
      "text/html": [
       "<div>\n",
       "<style scoped>\n",
       "    .dataframe tbody tr th:only-of-type {\n",
       "        vertical-align: middle;\n",
       "    }\n",
       "\n",
       "    .dataframe tbody tr th {\n",
       "        vertical-align: top;\n",
       "    }\n",
       "\n",
       "    .dataframe thead th {\n",
       "        text-align: right;\n",
       "    }\n",
       "</style>\n",
       "<table border=\"1\" class=\"dataframe\">\n",
       "  <thead>\n",
       "    <tr style=\"text-align: right;\">\n",
       "      <th></th>\n",
       "      <th>mean_fit_time</th>\n",
       "      <th>std_fit_time</th>\n",
       "      <th>mean_score_time</th>\n",
       "      <th>std_score_time</th>\n",
       "      <th>param_C</th>\n",
       "      <th>param_penalty</th>\n",
       "    </tr>\n",
       "  </thead>\n",
       "  <tbody>\n",
       "    <tr>\n",
       "      <th>0</th>\n",
       "      <td>0.002</td>\n",
       "      <td>0.000</td>\n",
       "      <td>0.000</td>\n",
       "      <td>0.000</td>\n",
       "      <td>0.000</td>\n",
       "      <td>l1</td>\n",
       "    </tr>\n",
       "    <tr>\n",
       "      <th>1</th>\n",
       "      <td>0.013</td>\n",
       "      <td>0.004</td>\n",
       "      <td>0.003</td>\n",
       "      <td>0.001</td>\n",
       "      <td>0.000</td>\n",
       "      <td>l2</td>\n",
       "    </tr>\n",
       "    <tr>\n",
       "      <th>2</th>\n",
       "      <td>0.001</td>\n",
       "      <td>0.000</td>\n",
       "      <td>0.000</td>\n",
       "      <td>0.000</td>\n",
       "      <td>0.000</td>\n",
       "      <td>l1</td>\n",
       "    </tr>\n",
       "    <tr>\n",
       "      <th>3</th>\n",
       "      <td>0.013</td>\n",
       "      <td>0.005</td>\n",
       "      <td>0.002</td>\n",
       "      <td>0.001</td>\n",
       "      <td>0.000</td>\n",
       "      <td>l2</td>\n",
       "    </tr>\n",
       "    <tr>\n",
       "      <th>4</th>\n",
       "      <td>0.001</td>\n",
       "      <td>0.000</td>\n",
       "      <td>0.000</td>\n",
       "      <td>0.000</td>\n",
       "      <td>0.001</td>\n",
       "      <td>l1</td>\n",
       "    </tr>\n",
       "  </tbody>\n",
       "</table>\n",
       "</div>"
      ],
      "text/plain": [
       "   mean_fit_time  std_fit_time  mean_score_time  std_score_time param_C  \\\n",
       "0          0.002         0.000            0.000           0.000   0.000   \n",
       "1          0.013         0.004            0.003           0.001   0.000   \n",
       "2          0.001         0.000            0.000           0.000   0.000   \n",
       "3          0.013         0.005            0.002           0.001   0.000   \n",
       "4          0.001         0.000            0.000           0.000   0.001   \n",
       "\n",
       "  param_penalty  \n",
       "0            l1  \n",
       "1            l2  \n",
       "2            l1  \n",
       "3            l2  \n",
       "4            l1  "
      ]
     },
     "metadata": {},
     "output_type": "display_data"
    },
    {
     "name": "stdout",
     "output_type": "stream",
     "text": [
      "<class 'pandas.core.frame.DataFrame'>\n",
      "RangeIndex: 20 entries, 0 to 19\n",
      "Data columns (total 20 columns):\n",
      " #   Column             Non-Null Count  Dtype  \n",
      "---  ------             --------------  -----  \n",
      " 0   mean_fit_time      20 non-null     float64\n",
      " 1   std_fit_time       20 non-null     float64\n",
      " 2   mean_score_time    20 non-null     float64\n",
      " 3   std_score_time     20 non-null     float64\n",
      " 4   param_C            20 non-null     object \n",
      " 5   param_penalty      20 non-null     object \n",
      " 6   params             20 non-null     object \n",
      " 7   split0_test_score  10 non-null     float64\n",
      " 8   split1_test_score  10 non-null     float64\n",
      " 9   split2_test_score  10 non-null     float64\n",
      " 10  split3_test_score  10 non-null     float64\n",
      " 11  split4_test_score  10 non-null     float64\n",
      " 12  split5_test_score  10 non-null     float64\n",
      " 13  split6_test_score  10 non-null     float64\n",
      " 14  split7_test_score  10 non-null     float64\n",
      " 15  split8_test_score  10 non-null     float64\n",
      " 16  split9_test_score  10 non-null     float64\n",
      " 17  mean_test_score    10 non-null     float64\n",
      " 18  std_test_score     10 non-null     float64\n",
      " 19  rank_test_score    20 non-null     int32  \n",
      "dtypes: float64(16), int32(1), object(3)\n",
      "memory usage: 3.2+ KB\n"
     ]
    }
   ],
   "source": [
    "import pandas as pd\n",
    "\n",
    "results = grid_cv.cv_results_\n",
    "\n",
    "df = pd.DataFrame(results)\n",
    "display(df.head().iloc[:,:6])\n",
    "df.info()"
   ]
  },
  {
   "cell_type": "code",
   "execution_count": 44,
   "metadata": {},
   "outputs": [
    {
     "data": {
      "text/html": [
       "<div>\n",
       "<style scoped>\n",
       "    .dataframe tbody tr th:only-of-type {\n",
       "        vertical-align: middle;\n",
       "    }\n",
       "\n",
       "    .dataframe tbody tr th {\n",
       "        vertical-align: top;\n",
       "    }\n",
       "\n",
       "    .dataframe thead th {\n",
       "        text-align: right;\n",
       "    }\n",
       "</style>\n",
       "<table border=\"1\" class=\"dataframe\">\n",
       "  <thead>\n",
       "    <tr style=\"text-align: right;\">\n",
       "      <th></th>\n",
       "      <th>param_penalty</th>\n",
       "      <th>param_C</th>\n",
       "      <th>mean_test_score</th>\n",
       "    </tr>\n",
       "  </thead>\n",
       "  <tbody>\n",
       "    <tr>\n",
       "      <th>7</th>\n",
       "      <td>l2</td>\n",
       "      <td>0.010</td>\n",
       "      <td>0.679</td>\n",
       "    </tr>\n",
       "    <tr>\n",
       "      <th>11</th>\n",
       "      <td>l2</td>\n",
       "      <td>1</td>\n",
       "      <td>0.679</td>\n",
       "    </tr>\n",
       "    <tr>\n",
       "      <th>13</th>\n",
       "      <td>l2</td>\n",
       "      <td>10</td>\n",
       "      <td>0.679</td>\n",
       "    </tr>\n",
       "    <tr>\n",
       "      <th>15</th>\n",
       "      <td>l2</td>\n",
       "      <td>100</td>\n",
       "      <td>0.679</td>\n",
       "    </tr>\n",
       "    <tr>\n",
       "      <th>17</th>\n",
       "      <td>l2</td>\n",
       "      <td>1000</td>\n",
       "      <td>0.679</td>\n",
       "    </tr>\n",
       "    <tr>\n",
       "      <th>19</th>\n",
       "      <td>l2</td>\n",
       "      <td>10000</td>\n",
       "      <td>0.679</td>\n",
       "    </tr>\n",
       "    <tr>\n",
       "      <th>9</th>\n",
       "      <td>l2</td>\n",
       "      <td>0.100</td>\n",
       "      <td>0.677</td>\n",
       "    </tr>\n",
       "    <tr>\n",
       "      <th>5</th>\n",
       "      <td>l2</td>\n",
       "      <td>0.001</td>\n",
       "      <td>0.667</td>\n",
       "    </tr>\n",
       "    <tr>\n",
       "      <th>1</th>\n",
       "      <td>l2</td>\n",
       "      <td>0.000</td>\n",
       "      <td>0.666</td>\n",
       "    </tr>\n",
       "    <tr>\n",
       "      <th>3</th>\n",
       "      <td>l2</td>\n",
       "      <td>0.000</td>\n",
       "      <td>0.661</td>\n",
       "    </tr>\n",
       "    <tr>\n",
       "      <th>0</th>\n",
       "      <td>l1</td>\n",
       "      <td>0.000</td>\n",
       "      <td>nan</td>\n",
       "    </tr>\n",
       "    <tr>\n",
       "      <th>2</th>\n",
       "      <td>l1</td>\n",
       "      <td>0.000</td>\n",
       "      <td>nan</td>\n",
       "    </tr>\n",
       "    <tr>\n",
       "      <th>4</th>\n",
       "      <td>l1</td>\n",
       "      <td>0.001</td>\n",
       "      <td>nan</td>\n",
       "    </tr>\n",
       "    <tr>\n",
       "      <th>6</th>\n",
       "      <td>l1</td>\n",
       "      <td>0.010</td>\n",
       "      <td>nan</td>\n",
       "    </tr>\n",
       "    <tr>\n",
       "      <th>8</th>\n",
       "      <td>l1</td>\n",
       "      <td>0.100</td>\n",
       "      <td>nan</td>\n",
       "    </tr>\n",
       "    <tr>\n",
       "      <th>10</th>\n",
       "      <td>l1</td>\n",
       "      <td>1</td>\n",
       "      <td>nan</td>\n",
       "    </tr>\n",
       "    <tr>\n",
       "      <th>12</th>\n",
       "      <td>l1</td>\n",
       "      <td>10</td>\n",
       "      <td>nan</td>\n",
       "    </tr>\n",
       "    <tr>\n",
       "      <th>14</th>\n",
       "      <td>l1</td>\n",
       "      <td>100</td>\n",
       "      <td>nan</td>\n",
       "    </tr>\n",
       "    <tr>\n",
       "      <th>16</th>\n",
       "      <td>l1</td>\n",
       "      <td>1000</td>\n",
       "      <td>nan</td>\n",
       "    </tr>\n",
       "    <tr>\n",
       "      <th>18</th>\n",
       "      <td>l1</td>\n",
       "      <td>10000</td>\n",
       "      <td>nan</td>\n",
       "    </tr>\n",
       "  </tbody>\n",
       "</table>\n",
       "</div>"
      ],
      "text/plain": [
       "   param_penalty param_C  mean_test_score\n",
       "7             l2   0.010            0.679\n",
       "11            l2       1            0.679\n",
       "13            l2      10            0.679\n",
       "15            l2     100            0.679\n",
       "17            l2    1000            0.679\n",
       "19            l2   10000            0.679\n",
       "9             l2   0.100            0.677\n",
       "5             l2   0.001            0.667\n",
       "1             l2   0.000            0.666\n",
       "3             l2   0.000            0.661\n",
       "0             l1   0.000              nan\n",
       "2             l1   0.000              nan\n",
       "4             l1   0.001              nan\n",
       "6             l1   0.010              nan\n",
       "8             l1   0.100              nan\n",
       "10            l1       1              nan\n",
       "12            l1      10              nan\n",
       "14            l1     100              nan\n",
       "16            l1    1000              nan\n",
       "18            l1   10000              nan"
      ]
     },
     "execution_count": 44,
     "metadata": {},
     "output_type": "execute_result"
    }
   ],
   "source": [
    "df = df[['param_penalty','param_C', 'mean_test_score']]\n",
    "df = df.sort_values(by='mean_test_score', ascending = False)\n",
    "df"
   ]
  },
  {
   "cell_type": "code",
   "execution_count": 51,
   "metadata": {},
   "outputs": [
    {
     "data": {
      "image/png": "[encoded data removed]",
      "text/plain": [
       "<Figure size 648x432 with 1 Axes>"
      ]
     },
     "metadata": {},
     "output_type": "display_data"
    }
   ],
   "source": [
    "plt.style.use('fivethirtyeight')\n",
    "plt.figure(figsize=(9,6))\n",
    "\n",
    "sns.scatterplot(x = 'param_C', y = 'mean_test_score', hue = 'param_penalty', data = df[0:10], s=200)\n",
    "plt.xscale('symlog')\n",
    "plt.ylim((0.5,1))\n",
    "\n",
    "plt.show()"
   ]
  },
  {
   "cell_type": "code",
   "execution_count": 46,
   "metadata": {},
   "outputs": [],
   "source": [
    "parameters = {\"C\": [10 ** x for x in range (-5, 5, 1)],\n",
    "              \"penalty\": ['l1', 'l2']\n",
    "             }"
   ]
  },
  {
   "cell_type": "code",
   "execution_count": 47,
   "metadata": {},
   "outputs": [
    {
     "data": {
      "text/plain": [
       "RandomizedSearchCV(cv=10, estimator=LogisticRegression(),\n",
       "                   param_distributions={'C': [1e-05, 0.0001, 0.001, 0.01, 0.1,\n",
       "                                              1, 10, 100, 1000, 10000],\n",
       "                                        'penalty': ['l1', 'l2']},\n",
       "                   random_state=111, scoring='precision')"
      ]
     },
     "execution_count": 47,
     "metadata": {},
     "output_type": "execute_result"
    }
   ],
   "source": [
    "from sklearn.model_selection import RandomizedSearchCV\n",
    "\n",
    "rs_cv = RandomizedSearchCV(estimator=log_reg,\n",
    "                           param_distributions = parameters,\n",
    "                           cv = 10,\n",
    "                           n_iter = 10,\n",
    "                           random_state = 111,\n",
    "                           scoring = 'precision'\n",
    "                      )\n",
    "\n",
    "rs_cv.fit(X, y)"
   ]
  },
  {
   "cell_type": "code",
   "execution_count": 48,
   "metadata": {},
   "outputs": [
    {
     "name": "stdout",
     "output_type": "stream",
     "text": [
      "Best parameters      :  {'penalty': 'l2', 'C': 0.001} \n",
      "\n",
      "All precision values :  [0.65987691 0.68922201 0.62998217 0.62998217        nan 0.62998217\n",
      "        nan        nan        nan        nan] \n",
      "\n",
      "Best precision value :  0.6892220060641113\n"
     ]
    }
   ],
   "source": [
    "print(\"Best parameters      : \", rs_cv.best_params_, \"\\n\")\n",
    "print(\"All precision values : \", rs_cv.cv_results_['mean_test_score'], \"\\n\")\n",
    "print(\"Best precision value : \", rs_cv.best_score_)"
   ]
  },
  {
   "cell_type": "code",
   "execution_count": 49,
   "metadata": {},
   "outputs": [
    {
     "data": {
      "text/html": [
       "<div>\n",
       "<style scoped>\n",
       "    .dataframe tbody tr th:only-of-type {\n",
       "        vertical-align: middle;\n",
       "    }\n",
       "\n",
       "    .dataframe tbody tr th {\n",
       "        vertical-align: top;\n",
       "    }\n",
       "\n",
       "    .dataframe thead th {\n",
       "        text-align: right;\n",
       "    }\n",
       "</style>\n",
       "<table border=\"1\" class=\"dataframe\">\n",
       "  <thead>\n",
       "    <tr style=\"text-align: right;\">\n",
       "      <th></th>\n",
       "      <th>param_penalty</th>\n",
       "      <th>param_C</th>\n",
       "      <th>mean_test_score</th>\n",
       "    </tr>\n",
       "  </thead>\n",
       "  <tbody>\n",
       "    <tr>\n",
       "      <th>1</th>\n",
       "      <td>l2</td>\n",
       "      <td>0.001</td>\n",
       "      <td>0.689</td>\n",
       "    </tr>\n",
       "    <tr>\n",
       "      <th>0</th>\n",
       "      <td>l2</td>\n",
       "      <td>0.000</td>\n",
       "      <td>0.660</td>\n",
       "    </tr>\n",
       "    <tr>\n",
       "      <th>2</th>\n",
       "      <td>l2</td>\n",
       "      <td>10</td>\n",
       "      <td>0.630</td>\n",
       "    </tr>\n",
       "    <tr>\n",
       "      <th>3</th>\n",
       "      <td>l2</td>\n",
       "      <td>1</td>\n",
       "      <td>0.630</td>\n",
       "    </tr>\n",
       "    <tr>\n",
       "      <th>5</th>\n",
       "      <td>l2</td>\n",
       "      <td>1000</td>\n",
       "      <td>0.630</td>\n",
       "    </tr>\n",
       "    <tr>\n",
       "      <th>4</th>\n",
       "      <td>l1</td>\n",
       "      <td>100</td>\n",
       "      <td>nan</td>\n",
       "    </tr>\n",
       "    <tr>\n",
       "      <th>6</th>\n",
       "      <td>l1</td>\n",
       "      <td>0.010</td>\n",
       "      <td>nan</td>\n",
       "    </tr>\n",
       "    <tr>\n",
       "      <th>7</th>\n",
       "      <td>l1</td>\n",
       "      <td>0.001</td>\n",
       "      <td>nan</td>\n",
       "    </tr>\n",
       "    <tr>\n",
       "      <th>8</th>\n",
       "      <td>l1</td>\n",
       "      <td>1000</td>\n",
       "      <td>nan</td>\n",
       "    </tr>\n",
       "    <tr>\n",
       "      <th>9</th>\n",
       "      <td>l1</td>\n",
       "      <td>0.000</td>\n",
       "      <td>nan</td>\n",
       "    </tr>\n",
       "  </tbody>\n",
       "</table>\n",
       "</div>"
      ],
      "text/plain": [
       "  param_penalty param_C  mean_test_score\n",
       "1            l2   0.001            0.689\n",
       "0            l2   0.000            0.660\n",
       "2            l2      10            0.630\n",
       "3            l2       1            0.630\n",
       "5            l2    1000            0.630\n",
       "4            l1     100              nan\n",
       "6            l1   0.010              nan\n",
       "7            l1   0.001              nan\n",
       "8            l1    1000              nan\n",
       "9            l1   0.000              nan"
      ]
     },
     "execution_count": 49,
     "metadata": {},
     "output_type": "execute_result"
    }
   ],
   "source": [
    "results_rs = rs_cv.cv_results_\n",
    "\n",
    "df_rs = pd.DataFrame(results_rs)\n",
    "df_rs = df_rs[['param_penalty','param_C', 'mean_test_score']]\n",
    "df_rs = df_rs.sort_values(by='mean_test_score', ascending = False)\n",
    "\n",
    "df_rs"
   ]
  },
  {
   "cell_type": "code",
   "execution_count": 52,
   "metadata": {},
   "outputs": [
    {
     "data": {
      "image/png": "[encoded data removed]",
      "text/plain": [
       "<Figure size 648x432 with 1 Axes>"
      ]
     },
     "metadata": {},
     "output_type": "display_data"
    }
   ],
   "source": [
    "plt.style.use('fivethirtyeight')\n",
    "plt.figure(figsize=(9,6))\n",
    "\n",
    "sns.scatterplot(x = 'param_C', y = 'mean_test_score', hue = 'param_penalty', data = df_rs, s=200)\n",
    "plt.xscale('symlog')\n",
    "plt.ylim((0.5,1))\n",
    "\n",
    "plt.show()"
   ]
  },
  {
   "cell_type": "code",
   "execution_count": null,
   "metadata": {},
   "outputs": [],
   "source": [
    "# parameters c=1000 gives us the best tuning"
   ]
  }
 ],
 "metadata": {
  "kernelspec": {
   "display_name": "Python 3",
   "language": "python",
   "name": "python3"
  },
  "language_info": {
   "codemirror_mode": {
    "name": "ipython",
    "version": 3
   },
   "file_extension": ".py",
   "mimetype": "text/x-python",
   "name": "python",
   "nbconvert_exporter": "python",
   "pygments_lexer": "ipython3",
   "version": "3.7.6"
  }
 },
 "nbformat": 4,
 "nbformat_minor": 4
}
