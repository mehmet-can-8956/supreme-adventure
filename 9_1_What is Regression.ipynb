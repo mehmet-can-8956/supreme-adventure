{
 "cells": [
  {
   "cell_type": "markdown",
   "metadata": {},
   "source": [
    "1. To predict per capita income is a regression task. Because to predict \n",
    "per data income for each value via an infite number set us hard nearly impossible,\n",
    "So we must use regression tools not classification tools.\n",
    "\n",
    "2.- \"OLS is a relatively simple algorithm\" is false because OLS is a relatively\n",
    "simple algorithm which optimize the best line among an infinite number of alternatives.\n",
    "\n",
    "  - \"Regression models become useless if they don’t meet the assumptions of linear regression\"\n",
    "    False because once we check if it doesn’t meet some of the conditions  to fix our model, \n",
    "    then we can move to the next step.\n",
    "    \n",
    "  - \"Estimation and prediction are the same thing in the context of linear regression models.\"\n",
    "    False because estimation is to find the relationship between features and target variable. \n",
    "    But by prediction, we mean to come up with outcome values for the observations that have\n",
    "    not been previously observed.\n",
    "    \n",
    "   - \"Linear regression model is only one kind of regression models. Regression problems can \n",
    "      also be solved with other kind of models like Support Vector Machines or Random Forests.\"\n",
    "      False because to express the linear term is for to show the relationship between \n",
    "      the target variable and the coefficients of the features. So that linear regression \n",
    "      models can estimate relationships that are quadratic, cubic, or any polynomial order. \n",
    "\n",
    "3. For example we can take into consideration an hotel company. We can assume that we have a\n",
    "feature \"normal outcome\" and \"potential outcome\". Also we can determine 5 to 10 services like\n",
    "\"taking customers from airport\",\"taking customers to airport\",\"using water club\",\"using sport club\",\n",
    "\"lunch service\",\"health service\",\"riding service\",\"parasailing\",\"tennis coach\" etc. which we can offer\n",
    "them to the customers for free. We can make a regression problem like: we can allocate used free\n",
    "services numbers to x-axis, outcome to y-axis. we can predict potential outcome."
   ]
  }
 ],
 "metadata": {
  "kernelspec": {
   "display_name": "Python 3",
   "language": "python",
   "name": "python3"
  },
  "language_info": {
   "codemirror_mode": {
    "name": "ipython",
    "version": 3
   },
   "file_extension": ".py",
   "mimetype": "text/x-python",
   "name": "python",
   "nbconvert_exporter": "python",
   "pygments_lexer": "ipython3",
   "version": "3.7.6"
  }
 },
 "nbformat": 4,
 "nbformat_minor": 4
}
