{
 "cells": [
  {
   "cell_type": "code",
   "execution_count": 1,
   "metadata": {},
   "outputs": [],
   "source": [
    "# 1st Part"
   ]
  },
  {
   "cell_type": "code",
   "execution_count": 2,
   "metadata": {},
   "outputs": [],
   "source": [
    "import pandas as pd\n",
    "import numpy as np\n",
    "us_edu = pd.read_csv(\"datasets_95317_1078789_states_all.csv\")"
   ]
  },
  {
   "cell_type": "code",
   "execution_count": 3,
   "metadata": {},
   "outputs": [
    {
     "name": "stdout",
     "output_type": "stream",
     "text": [
      "<class 'pandas.core.frame.DataFrame'>\n",
      "RangeIndex: 1715 entries, 0 to 1714\n",
      "Data columns (total 25 columns):\n",
      " #   Column                        Non-Null Count  Dtype  \n",
      "---  ------                        --------------  -----  \n",
      " 0   PRIMARY_KEY                   1715 non-null   object \n",
      " 1   STATE                         1715 non-null   object \n",
      " 2   YEAR                          1715 non-null   int64  \n",
      " 3   ENROLL                        1224 non-null   float64\n",
      " 4   TOTAL_REVENUE                 1275 non-null   float64\n",
      " 5   FEDERAL_REVENUE               1275 non-null   float64\n",
      " 6   STATE_REVENUE                 1275 non-null   float64\n",
      " 7   LOCAL_REVENUE                 1275 non-null   float64\n",
      " 8   TOTAL_EXPENDITURE             1275 non-null   float64\n",
      " 9   INSTRUCTION_EXPENDITURE       1275 non-null   float64\n",
      " 10  SUPPORT_SERVICES_EXPENDITURE  1275 non-null   float64\n",
      " 11  OTHER_EXPENDITURE             1224 non-null   float64\n",
      " 12  CAPITAL_OUTLAY_EXPENDITURE    1275 non-null   float64\n",
      " 13  GRADES_PK_G                   1542 non-null   float64\n",
      " 14  GRADES_KG_G                   1632 non-null   float64\n",
      " 15  GRADES_4_G                    1632 non-null   float64\n",
      " 16  GRADES_8_G                    1632 non-null   float64\n",
      " 17  GRADES_12_G                   1632 non-null   float64\n",
      " 18  GRADES_1_8_G                  1020 non-null   float64\n",
      " 19  GRADES_9_12_G                 1071 non-null   float64\n",
      " 20  GRADES_ALL_G                  1632 non-null   float64\n",
      " 21  AVG_MATH_4_SCORE              565 non-null    float64\n",
      " 22  AVG_MATH_8_SCORE              602 non-null    float64\n",
      " 23  AVG_READING_4_SCORE           650 non-null    float64\n",
      " 24  AVG_READING_8_SCORE           562 non-null    float64\n",
      "dtypes: float64(22), int64(1), object(2)\n",
      "memory usage: 335.1+ KB\n"
     ]
    }
   ],
   "source": [
    "us_edu.info()"
   ]
  },
  {
   "cell_type": "code",
   "execution_count": 4,
   "metadata": {},
   "outputs": [
    {
     "data": {
      "text/plain": [
       "PRIMARY_KEY                      0.000000\n",
       "STATE                            0.000000\n",
       "YEAR                             0.000000\n",
       "ENROLL                          28.629738\n",
       "TOTAL_REVENUE                   25.655977\n",
       "FEDERAL_REVENUE                 25.655977\n",
       "STATE_REVENUE                   25.655977\n",
       "LOCAL_REVENUE                   25.655977\n",
       "TOTAL_EXPENDITURE               25.655977\n",
       "INSTRUCTION_EXPENDITURE         25.655977\n",
       "SUPPORT_SERVICES_EXPENDITURE    25.655977\n",
       "OTHER_EXPENDITURE               28.629738\n",
       "CAPITAL_OUTLAY_EXPENDITURE      25.655977\n",
       "GRADES_PK_G                     10.087464\n",
       "GRADES_KG_G                      4.839650\n",
       "GRADES_4_G                       4.839650\n",
       "GRADES_8_G                       4.839650\n",
       "GRADES_12_G                      4.839650\n",
       "GRADES_1_8_G                    40.524781\n",
       "GRADES_9_12_G                   37.551020\n",
       "GRADES_ALL_G                     4.839650\n",
       "AVG_MATH_4_SCORE                67.055394\n",
       "AVG_MATH_8_SCORE                64.897959\n",
       "AVG_READING_4_SCORE             62.099125\n",
       "AVG_READING_8_SCORE             67.230321\n",
       "dtype: float64"
      ]
     },
     "execution_count": 4,
     "metadata": {},
     "output_type": "execute_result"
    }
   ],
   "source": [
    "us_edu.isnull().sum()*100/us_edu.shape[0]"
   ]
  },
  {
   "cell_type": "code",
   "execution_count": 5,
   "metadata": {},
   "outputs": [],
   "source": [
    "# 2nd Part\n",
    "# Enroll data can be taken from the following or former or average of these for each State seperately.\n",
    "# The next 4 columns which are revenues and 5 columns which are expenditure\n",
    "# also can be taken from the following or former or average of these for each State seperately.\n",
    "# The next 12 columns can be taken from the following or former or average of these for each State seperately."
   ]
  },
  {
   "cell_type": "code",
   "execution_count": 6,
   "metadata": {},
   "outputs": [],
   "source": [
    "# 3rd Part\n",
    "us_edu2=us_edu # back-up for 4th part"
   ]
  },
  {
   "cell_type": "code",
   "execution_count": 7,
   "metadata": {},
   "outputs": [],
   "source": [
    "for eachcolumn in (\"ENROLL\",\"TOTAL_REVENUE\",\"FEDERAL_REVENUE\",\"STATE_REVENUE\",\"LOCAL_REVENUE\",\"TOTAL_EXPENDITURE\",\n",
    "                   \"INSTRUCTION_EXPENDITURE\",\"SUPPORT_SERVICES_EXPENDITURE\",\"OTHER_EXPENDITURE\",\"CAPITAL_OUTLAY_EXPENDITURE\",\n",
    "                   \"GRADES_PK_G\",\"GRADES_KG_G\",\"GRADES_4_G\",\"GRADES_8_G\",\"GRADES_12_G\",\"GRADES_1_8_G\",\"GRADES_9_12_G\",\n",
    "                   \"GRADES_ALL_G\",\"AVG_MATH_4_SCORE\",\"AVG_MATH_8_SCORE\",\"AVG_READING_4_SCORE\",\"AVG_READING_8_SCORE\"):\n",
    "    us_edu[eachcolumn].fillna(us_edu[eachcolumn].mean(), inplace=True)"
   ]
  },
  {
   "cell_type": "code",
   "execution_count": 8,
   "metadata": {},
   "outputs": [
    {
     "data": {
      "text/plain": [
       "PRIMARY_KEY                     0.0\n",
       "STATE                           0.0\n",
       "YEAR                            0.0\n",
       "ENROLL                          0.0\n",
       "TOTAL_REVENUE                   0.0\n",
       "FEDERAL_REVENUE                 0.0\n",
       "STATE_REVENUE                   0.0\n",
       "LOCAL_REVENUE                   0.0\n",
       "TOTAL_EXPENDITURE               0.0\n",
       "INSTRUCTION_EXPENDITURE         0.0\n",
       "SUPPORT_SERVICES_EXPENDITURE    0.0\n",
       "OTHER_EXPENDITURE               0.0\n",
       "CAPITAL_OUTLAY_EXPENDITURE      0.0\n",
       "GRADES_PK_G                     0.0\n",
       "GRADES_KG_G                     0.0\n",
       "GRADES_4_G                      0.0\n",
       "GRADES_8_G                      0.0\n",
       "GRADES_12_G                     0.0\n",
       "GRADES_1_8_G                    0.0\n",
       "GRADES_9_12_G                   0.0\n",
       "GRADES_ALL_G                    0.0\n",
       "AVG_MATH_4_SCORE                0.0\n",
       "AVG_MATH_8_SCORE                0.0\n",
       "AVG_READING_4_SCORE             0.0\n",
       "AVG_READING_8_SCORE             0.0\n",
       "dtype: float64"
      ]
     },
     "execution_count": 8,
     "metadata": {},
     "output_type": "execute_result"
    }
   ],
   "source": [
    "us_edu.isnull().sum()*100/us_edu.shape[0]"
   ]
  },
  {
   "cell_type": "code",
   "execution_count": 9,
   "metadata": {},
   "outputs": [],
   "source": [
    "# 4th Part"
   ]
  },
  {
   "cell_type": "code",
   "execution_count": 10,
   "metadata": {},
   "outputs": [],
   "source": [
    "for eachcolumn in (\"ENROLL\",\"TOTAL_REVENUE\",\"FEDERAL_REVENUE\",\"STATE_REVENUE\",\"LOCAL_REVENUE\",\"TOTAL_EXPENDITURE\",\n",
    "                   \"INSTRUCTION_EXPENDITURE\",\"SUPPORT_SERVICES_EXPENDITURE\",\"OTHER_EXPENDITURE\",\"CAPITAL_OUTLAY_EXPENDITURE\",\n",
    "                   \"GRADES_PK_G\",\"GRADES_KG_G\",\"GRADES_4_G\",\"GRADES_8_G\",\"GRADES_12_G\",\"GRADES_1_8_G\",\"GRADES_9_12_G\",\n",
    "                   \"GRADES_ALL_G\",\"AVG_MATH_4_SCORE\",\"AVG_MATH_8_SCORE\",\"AVG_READING_4_SCORE\",\"AVG_READING_8_SCORE\"):\n",
    "    us_edu2[eachcolumn].interpolate(method ='linear', limit_direction ='both', inplace=True)"
   ]
  },
  {
   "cell_type": "code",
   "execution_count": 11,
   "metadata": {},
   "outputs": [
    {
     "data": {
      "text/plain": [
       "PRIMARY_KEY                     0.0\n",
       "STATE                           0.0\n",
       "YEAR                            0.0\n",
       "ENROLL                          0.0\n",
       "TOTAL_REVENUE                   0.0\n",
       "FEDERAL_REVENUE                 0.0\n",
       "STATE_REVENUE                   0.0\n",
       "LOCAL_REVENUE                   0.0\n",
       "TOTAL_EXPENDITURE               0.0\n",
       "INSTRUCTION_EXPENDITURE         0.0\n",
       "SUPPORT_SERVICES_EXPENDITURE    0.0\n",
       "OTHER_EXPENDITURE               0.0\n",
       "CAPITAL_OUTLAY_EXPENDITURE      0.0\n",
       "GRADES_PK_G                     0.0\n",
       "GRADES_KG_G                     0.0\n",
       "GRADES_4_G                      0.0\n",
       "GRADES_8_G                      0.0\n",
       "GRADES_12_G                     0.0\n",
       "GRADES_1_8_G                    0.0\n",
       "GRADES_9_12_G                   0.0\n",
       "GRADES_ALL_G                    0.0\n",
       "AVG_MATH_4_SCORE                0.0\n",
       "AVG_MATH_8_SCORE                0.0\n",
       "AVG_READING_4_SCORE             0.0\n",
       "AVG_READING_8_SCORE             0.0\n",
       "dtype: float64"
      ]
     },
     "execution_count": 11,
     "metadata": {},
     "output_type": "execute_result"
    }
   ],
   "source": [
    "us_edu2.isnull().sum()*100/us_edu2.shape[0]"
   ]
  },
  {
   "cell_type": "code",
   "execution_count": null,
   "metadata": {},
   "outputs": [],
   "source": [
    "# 5th Part"
   ]
  },
  {
   "cell_type": "code",
   "execution_count": null,
   "metadata": {},
   "outputs": [],
   "source": [
    "# Absolutely there are differences between them. Examining the data it can be noticed\n",
    "# the revenues and expenditure augments gradually in a high manner. So to calcualate the average every \n",
    "# year will lead us mistake. because it will not reflect the correct data. Instead of getting average\n",
    "# interpolating will make us nearer to accuracy. Speaking of enroll and grades, average method can\n",
    "# be used besides interpolating."
   ]
  }
 ],
 "metadata": {
  "kernelspec": {
   "display_name": "Python 3",
   "language": "python",
   "name": "python3"
  },
  "language_info": {
   "codemirror_mode": {
    "name": "ipython",
    "version": 3
   },
   "file_extension": ".py",
   "mimetype": "text/x-python",
   "name": "python",
   "nbconvert_exporter": "python",
   "pygments_lexer": "ipython3",
   "version": "3.7.6"
  }
 },
 "nbformat": 4,
 "nbformat_minor": 4
}
